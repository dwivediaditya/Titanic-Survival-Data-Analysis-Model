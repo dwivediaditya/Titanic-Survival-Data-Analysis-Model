{
 "cells": [
  {
   "cell_type": "markdown",
   "execution_count": null,
   "metadata": {
    "papermill": {
     "duration": 0.016462,
     "end_time": "2020-08-12T02:37:30.361084",
     "exception": false,
     "start_time": "2020-08-12T02:37:30.344622",
     "status": "completed"
    },
    "tags": []
   },
   "source": [
    "# Goal for this Notebook:\n",
    "Show a simple example of an analysis of the Titanic disaster in Python. This is aimed for those looking to get into the field or those who are already in the field and looking to see an example of an analysis done with Python.\n",
    "\n",
    "**This Notebook will show basic examples of:**\n",
    "**Data Handling**\n",
    "* Importing Data with Pandas\n",
    "* Cleaning Data\n",
    "* Exploring Data through Visualizations with Matplotlib and Seaborn\n",
    "**Data Analysis**\n",
    "* Supervised Machine learning Techniques:\n",
    "* K Nearest Neighbour\n",
    "* Gaussian Naive Bayes\n",
    "* Support Vector Machine (SVM)\n",
    "* Decision Tree Classifier\n",
    "* Plotting results."
   ]
  },
  {
   "cell_type": "markdown",
   "execution_count": null,
   "metadata": {
    "papermill": {
     "duration": 0.014493,
     "end_time": "2020-08-12T02:37:30.392449",
     "exception": false,
     "start_time": "2020-08-12T02:37:30.377956",
     "status": "completed"
    },
    "tags": []
   },
   "source": [
    "## Importing the required Libraries"
   ]
  },
  {
   "cell_type": "code",
   "execution_count": 1,
   "metadata": {
    "execution": {
     "iopub.execute_input": "2020-08-12T02:37:30.429758Z",
     "iopub.status.busy": "2020-08-12T02:37:30.428941Z",
     "iopub.status.idle": "2020-08-12T02:37:31.467193Z",
     "shell.execute_reply": "2020-08-12T02:37:31.466303Z"
    },
    "papermill": {
     "duration": 1.059902,
     "end_time": "2020-08-12T02:37:31.467337",
     "exception": false,
     "start_time": "2020-08-12T02:37:30.407435",
     "status": "completed"
    },
    "tags": []
   },
   "outputs": [],
   "source": [
    "# Importing the required libraries\n",
    "import pandas as pd\n",
    "import numpy as np\n",
    "import scipy as sc\n",
    "import sys\n",
    "import IPython\n",
    "from IPython import display \n",
    "import sklearn \n",
    "import random\n",
    "import time"
   ]
  },
  {
   "cell_type": "code",
   "execution_count": 2,
   "metadata": {
    "execution": {
     "iopub.execute_input": "2020-08-12T02:37:31.503656Z",
     "iopub.status.busy": "2020-08-12T02:37:31.502877Z",
     "iopub.status.idle": "2020-08-12T02:37:31.506464Z",
     "shell.execute_reply": "2020-08-12T02:37:31.505668Z"
    },
    "papermill": {
     "duration": 0.024186,
     "end_time": "2020-08-12T02:37:31.506602",
     "exception": false,
     "start_time": "2020-08-12T02:37:31.482416",
     "status": "completed"
    },
    "tags": []
   },
   "outputs": [],
   "source": [
    "#ignore warnings\n",
    "import warnings\n",
    "warnings.filterwarnings('ignore')"
   ]
  },
  {
   "cell_type": "code",
   "execution_count": 3,
   "metadata": {
    "execution": {
     "iopub.execute_input": "2020-08-12T02:37:31.543448Z",
     "iopub.status.busy": "2020-08-12T02:37:31.542649Z",
     "iopub.status.idle": "2020-08-12T02:37:31.704263Z",
     "shell.execute_reply": "2020-08-12T02:37:31.703418Z"
    },
    "papermill": {
     "duration": 0.182523,
     "end_time": "2020-08-12T02:37:31.704407",
     "exception": false,
     "start_time": "2020-08-12T02:37:31.521884",
     "status": "completed"
    },
    "tags": []
   },
   "outputs": [],
   "source": [
    "#Visualization\n",
    "import matplotlib as mpl\n",
    "import matplotlib.pyplot as plt\n",
    "import matplotlib.pylab as pylab\n",
    "import seaborn as sns"
   ]
  },
  {
   "cell_type": "code",
   "execution_count": 4,
   "metadata": {
    "execution": {
     "iopub.execute_input": "2020-08-12T02:37:31.748405Z",
     "iopub.status.busy": "2020-08-12T02:37:31.747585Z",
     "iopub.status.idle": "2020-08-12T02:37:31.750582Z",
     "shell.execute_reply": "2020-08-12T02:37:31.751142Z"
    },
    "papermill": {
     "duration": 0.029723,
     "end_time": "2020-08-12T02:37:31.751334",
     "exception": false,
     "start_time": "2020-08-12T02:37:31.721611",
     "status": "completed"
    },
    "tags": []
   },
   "outputs": [],
   "source": [
    "#Configure Visualization Defaults\n",
    "%matplotlib inline\n",
    "mpl.style.use('ggplot')\n",
    "sns.set_style('white')\n",
    "pylab.rcParams['figure.figsize'] = 12,8"
   ]
  },
  {
   "cell_type": "code",
   "execution_count": 5,
   "metadata": {
    "execution": {
     "iopub.execute_input": "2020-08-12T02:37:31.789395Z",
     "iopub.status.busy": "2020-08-12T02:37:31.788552Z",
     "iopub.status.idle": "2020-08-12T02:37:32.110353Z",
     "shell.execute_reply": "2020-08-12T02:37:32.111011Z"
    },
    "papermill": {
     "duration": 0.343829,
     "end_time": "2020-08-12T02:37:32.111212",
     "exception": false,
     "start_time": "2020-08-12T02:37:31.767383",
     "status": "completed"
    },
    "tags": []
   },
   "outputs": [],
   "source": [
    "# Importing the model. \n",
    "from sklearn.neighbors import KNeighborsClassifier\n",
    "from sklearn.naive_bayes import GaussianNB\n",
    "from sklearn.svm import SVC\n",
    "from sklearn.tree import DecisionTreeClassifier"
   ]
  },
  {
   "cell_type": "code",
   "execution_count": 6,
   "metadata": {
    "execution": {
     "iopub.execute_input": "2020-08-12T02:37:32.150472Z",
     "iopub.status.busy": "2020-08-12T02:37:32.149632Z",
     "iopub.status.idle": "2020-08-12T02:37:32.171227Z",
     "shell.execute_reply": "2020-08-12T02:37:32.171833Z"
    },
    "papermill": {
     "duration": 0.045012,
     "end_time": "2020-08-12T02:37:32.172027",
     "exception": false,
     "start_time": "2020-08-12T02:37:32.127015",
     "status": "completed"
    },
    "tags": []
   },
   "outputs": [],
   "source": [
    "#Common Model Helpers\n",
    "from sklearn.preprocessing import OneHotEncoder, LabelEncoder\n",
    "from sklearn import feature_selection\n",
    "from sklearn import model_selection\n",
    "from sklearn.model_selection import GridSearchCV, StratifiedKFold, StratifiedShuffleSplit, cross_val_score\n",
    "from sklearn import metrics\n",
    "from sklearn.metrics import accuracy_score,classification_report, confusion_matrix"
   ]
  },
  {
   "cell_type": "markdown",
   "execution_count": null,
   "metadata": {
    "papermill": {
     "duration": 0.015065,
     "end_time": "2020-08-12T02:37:32.202834",
     "exception": false,
     "start_time": "2020-08-12T02:37:32.187769",
     "status": "completed"
    },
    "tags": []
   },
   "source": [
    "### Describing and analysing the given data sets for better understanding of the data provided"
   ]
  },
  {
   "cell_type": "code",
   "execution_count": 7,
   "metadata": {
    "execution": {
     "iopub.execute_input": "2020-08-12T02:37:32.244514Z",
     "iopub.status.busy": "2020-08-12T02:37:32.243393Z",
     "iopub.status.idle": "2020-08-12T02:37:32.267523Z",
     "shell.execute_reply": "2020-08-12T02:37:32.266674Z"
    },
    "papermill": {
     "duration": 0.049279,
     "end_time": "2020-08-12T02:37:32.267656",
     "exception": false,
     "start_time": "2020-08-12T02:37:32.218377",
     "status": "completed"
    },
    "tags": []
   },
   "outputs": [],
   "source": [
    "data_raw = pd.read_csv(\"../input/titanic/train.csv\")\n",
    "data_test = pd.read_csv(\"../input/titanic/test.csv\")\n",
    "\n",
    "data_train = data_raw.copy(deep = True)\n",
    "# combining the two datasets for cleaning\n",
    "data_to_be_cleaned = [data_train, data_test]"
   ]
  },
  {
   "cell_type": "code",
   "execution_count": 8,
   "metadata": {
    "execution": {
     "iopub.execute_input": "2020-08-12T02:37:32.311868Z",
     "iopub.status.busy": "2020-08-12T02:37:32.311007Z",
     "iopub.status.idle": "2020-08-12T02:37:32.345218Z",
     "shell.execute_reply": "2020-08-12T02:37:32.344393Z"
    },
    "papermill": {
     "duration": 0.061864,
     "end_time": "2020-08-12T02:37:32.345391",
     "exception": false,
     "start_time": "2020-08-12T02:37:32.283527",
     "status": "completed"
    },
    "tags": []
   },
   "outputs": [
    {
     "name": "stdout",
     "output_type": "stream",
     "text": [
      "<class 'pandas.core.frame.DataFrame'>\n",
      "RangeIndex: 891 entries, 0 to 890\n",
      "Data columns (total 12 columns):\n",
      " #   Column       Non-Null Count  Dtype  \n",
      "---  ------       --------------  -----  \n",
      " 0   PassengerId  891 non-null    int64  \n",
      " 1   Survived     891 non-null    int64  \n",
      " 2   Pclass       891 non-null    int64  \n",
      " 3   Name         891 non-null    object \n",
      " 4   Sex          891 non-null    object \n",
      " 5   Age          714 non-null    float64\n",
      " 6   SibSp        891 non-null    int64  \n",
      " 7   Parch        891 non-null    int64  \n",
      " 8   Ticket       891 non-null    object \n",
      " 9   Fare         891 non-null    float64\n",
      " 10  Cabin        204 non-null    object \n",
      " 11  Embarked     889 non-null    object \n",
      "dtypes: float64(2), int64(5), object(5)\n",
      "memory usage: 83.7+ KB\n",
      "*-*-*-*-*-*-*-*-*-*-*-*-*-*-*-*-*-*-*-*-*-*-*-*-*-\n",
      "<class 'pandas.core.frame.DataFrame'>\n",
      "RangeIndex: 418 entries, 0 to 417\n",
      "Data columns (total 11 columns):\n",
      " #   Column       Non-Null Count  Dtype  \n",
      "---  ------       --------------  -----  \n",
      " 0   PassengerId  418 non-null    int64  \n",
      " 1   Pclass       418 non-null    int64  \n",
      " 2   Name         418 non-null    object \n",
      " 3   Sex          418 non-null    object \n",
      " 4   Age          332 non-null    float64\n",
      " 5   SibSp        418 non-null    int64  \n",
      " 6   Parch        418 non-null    int64  \n",
      " 7   Ticket       418 non-null    object \n",
      " 8   Fare         417 non-null    float64\n",
      " 9   Cabin        91 non-null     object \n",
      " 10  Embarked     418 non-null    object \n",
      "dtypes: float64(2), int64(4), object(5)\n",
      "memory usage: 36.0+ KB\n"
     ]
    }
   ],
   "source": [
    "data_raw.info()\n",
    "print('*-'*25)\n",
    "data_test.info()"
   ]
  },
  {
   "cell_type": "code",
   "execution_count": 9,
   "metadata": {
    "execution": {
     "iopub.execute_input": "2020-08-12T02:37:32.390500Z",
     "iopub.status.busy": "2020-08-12T02:37:32.389644Z",
     "iopub.status.idle": "2020-08-12T02:37:32.393258Z",
     "shell.execute_reply": "2020-08-12T02:37:32.394050Z"
    },
    "papermill": {
     "duration": 0.032542,
     "end_time": "2020-08-12T02:37:32.394236",
     "exception": false,
     "start_time": "2020-08-12T02:37:32.361694",
     "status": "completed"
    },
    "tags": []
   },
   "outputs": [
    {
     "name": "stdout",
     "output_type": "stream",
     "text": [
      "Train columns with null values:\n",
      " PassengerId      0\n",
      "Survived         0\n",
      "Pclass           0\n",
      "Name             0\n",
      "Sex              0\n",
      "Age            177\n",
      "SibSp            0\n",
      "Parch            0\n",
      "Ticket           0\n",
      "Fare             0\n",
      "Cabin          687\n",
      "Embarked         2\n",
      "dtype: int64\n",
      "*-*-*-*-*-*-*-*-*-*-*-*-*-*-*-*-*-*-*-*-*-*-*-*-*-\n",
      "Test/Validation columns with null values:\n",
      " PassengerId      0\n",
      "Pclass           0\n",
      "Name             0\n",
      "Sex              0\n",
      "Age             86\n",
      "SibSp            0\n",
      "Parch            0\n",
      "Ticket           0\n",
      "Fare             1\n",
      "Cabin          327\n",
      "Embarked         0\n",
      "dtype: int64\n",
      "*-*-*-*-*-*-*-*-*-*-*-*-*-*-*-*-*-*-*-*-*-*-*-*-*-\n"
     ]
    }
   ],
   "source": [
    "print('Train columns with null values:\\n', data_train.isnull().sum())\n",
    "print(\"*-\"*25)\n",
    "\n",
    "print('Test/Validation columns with null values:\\n', data_test.isnull().sum())\n",
    "print(\"*-\"*25)"
   ]
  },
  {
   "cell_type": "code",
   "execution_count": 10,
   "metadata": {
    "execution": {
     "iopub.execute_input": "2020-08-12T02:37:32.434782Z",
     "iopub.status.busy": "2020-08-12T02:37:32.433591Z",
     "iopub.status.idle": "2020-08-12T02:37:32.512610Z",
     "shell.execute_reply": "2020-08-12T02:37:32.513243Z"
    },
    "papermill": {
     "duration": 0.103061,
     "end_time": "2020-08-12T02:37:32.513428",
     "exception": false,
     "start_time": "2020-08-12T02:37:32.410367",
     "status": "completed"
    },
    "tags": []
   },
   "outputs": [
    {
     "data": {
      "text/html": [
       "<div>\n",
       "<style scoped>\n",
       "    .dataframe tbody tr th:only-of-type {\n",
       "        vertical-align: middle;\n",
       "    }\n",
       "\n",
       "    .dataframe tbody tr th {\n",
       "        vertical-align: top;\n",
       "    }\n",
       "\n",
       "    .dataframe thead th {\n",
       "        text-align: right;\n",
       "    }\n",
       "</style>\n",
       "<table border=\"1\" class=\"dataframe\">\n",
       "  <thead>\n",
       "    <tr style=\"text-align: right;\">\n",
       "      <th></th>\n",
       "      <th>PassengerId</th>\n",
       "      <th>Survived</th>\n",
       "      <th>Pclass</th>\n",
       "      <th>Name</th>\n",
       "      <th>Sex</th>\n",
       "      <th>Age</th>\n",
       "      <th>SibSp</th>\n",
       "      <th>Parch</th>\n",
       "      <th>Ticket</th>\n",
       "      <th>Fare</th>\n",
       "      <th>Cabin</th>\n",
       "      <th>Embarked</th>\n",
       "    </tr>\n",
       "  </thead>\n",
       "  <tbody>\n",
       "    <tr>\n",
       "      <th>count</th>\n",
       "      <td>891.000000</td>\n",
       "      <td>891.000000</td>\n",
       "      <td>891.000000</td>\n",
       "      <td>891</td>\n",
       "      <td>891</td>\n",
       "      <td>714.000000</td>\n",
       "      <td>891.000000</td>\n",
       "      <td>891.000000</td>\n",
       "      <td>891</td>\n",
       "      <td>891.000000</td>\n",
       "      <td>204</td>\n",
       "      <td>889</td>\n",
       "    </tr>\n",
       "    <tr>\n",
       "      <th>unique</th>\n",
       "      <td>NaN</td>\n",
       "      <td>NaN</td>\n",
       "      <td>NaN</td>\n",
       "      <td>891</td>\n",
       "      <td>2</td>\n",
       "      <td>NaN</td>\n",
       "      <td>NaN</td>\n",
       "      <td>NaN</td>\n",
       "      <td>681</td>\n",
       "      <td>NaN</td>\n",
       "      <td>147</td>\n",
       "      <td>3</td>\n",
       "    </tr>\n",
       "    <tr>\n",
       "      <th>top</th>\n",
       "      <td>NaN</td>\n",
       "      <td>NaN</td>\n",
       "      <td>NaN</td>\n",
       "      <td>Harknett, Miss. Alice Phoebe</td>\n",
       "      <td>male</td>\n",
       "      <td>NaN</td>\n",
       "      <td>NaN</td>\n",
       "      <td>NaN</td>\n",
       "      <td>CA. 2343</td>\n",
       "      <td>NaN</td>\n",
       "      <td>B96 B98</td>\n",
       "      <td>S</td>\n",
       "    </tr>\n",
       "    <tr>\n",
       "      <th>freq</th>\n",
       "      <td>NaN</td>\n",
       "      <td>NaN</td>\n",
       "      <td>NaN</td>\n",
       "      <td>1</td>\n",
       "      <td>577</td>\n",
       "      <td>NaN</td>\n",
       "      <td>NaN</td>\n",
       "      <td>NaN</td>\n",
       "      <td>7</td>\n",
       "      <td>NaN</td>\n",
       "      <td>4</td>\n",
       "      <td>644</td>\n",
       "    </tr>\n",
       "    <tr>\n",
       "      <th>mean</th>\n",
       "      <td>446.000000</td>\n",
       "      <td>0.383838</td>\n",
       "      <td>2.308642</td>\n",
       "      <td>NaN</td>\n",
       "      <td>NaN</td>\n",
       "      <td>29.699118</td>\n",
       "      <td>0.523008</td>\n",
       "      <td>0.381594</td>\n",
       "      <td>NaN</td>\n",
       "      <td>32.204208</td>\n",
       "      <td>NaN</td>\n",
       "      <td>NaN</td>\n",
       "    </tr>\n",
       "    <tr>\n",
       "      <th>std</th>\n",
       "      <td>257.353842</td>\n",
       "      <td>0.486592</td>\n",
       "      <td>0.836071</td>\n",
       "      <td>NaN</td>\n",
       "      <td>NaN</td>\n",
       "      <td>14.526497</td>\n",
       "      <td>1.102743</td>\n",
       "      <td>0.806057</td>\n",
       "      <td>NaN</td>\n",
       "      <td>49.693429</td>\n",
       "      <td>NaN</td>\n",
       "      <td>NaN</td>\n",
       "    </tr>\n",
       "    <tr>\n",
       "      <th>min</th>\n",
       "      <td>1.000000</td>\n",
       "      <td>0.000000</td>\n",
       "      <td>1.000000</td>\n",
       "      <td>NaN</td>\n",
       "      <td>NaN</td>\n",
       "      <td>0.420000</td>\n",
       "      <td>0.000000</td>\n",
       "      <td>0.000000</td>\n",
       "      <td>NaN</td>\n",
       "      <td>0.000000</td>\n",
       "      <td>NaN</td>\n",
       "      <td>NaN</td>\n",
       "    </tr>\n",
       "    <tr>\n",
       "      <th>25%</th>\n",
       "      <td>223.500000</td>\n",
       "      <td>0.000000</td>\n",
       "      <td>2.000000</td>\n",
       "      <td>NaN</td>\n",
       "      <td>NaN</td>\n",
       "      <td>20.125000</td>\n",
       "      <td>0.000000</td>\n",
       "      <td>0.000000</td>\n",
       "      <td>NaN</td>\n",
       "      <td>7.910400</td>\n",
       "      <td>NaN</td>\n",
       "      <td>NaN</td>\n",
       "    </tr>\n",
       "    <tr>\n",
       "      <th>50%</th>\n",
       "      <td>446.000000</td>\n",
       "      <td>0.000000</td>\n",
       "      <td>3.000000</td>\n",
       "      <td>NaN</td>\n",
       "      <td>NaN</td>\n",
       "      <td>28.000000</td>\n",
       "      <td>0.000000</td>\n",
       "      <td>0.000000</td>\n",
       "      <td>NaN</td>\n",
       "      <td>14.454200</td>\n",
       "      <td>NaN</td>\n",
       "      <td>NaN</td>\n",
       "    </tr>\n",
       "    <tr>\n",
       "      <th>75%</th>\n",
       "      <td>668.500000</td>\n",
       "      <td>1.000000</td>\n",
       "      <td>3.000000</td>\n",
       "      <td>NaN</td>\n",
       "      <td>NaN</td>\n",
       "      <td>38.000000</td>\n",
       "      <td>1.000000</td>\n",
       "      <td>0.000000</td>\n",
       "      <td>NaN</td>\n",
       "      <td>31.000000</td>\n",
       "      <td>NaN</td>\n",
       "      <td>NaN</td>\n",
       "    </tr>\n",
       "    <tr>\n",
       "      <th>max</th>\n",
       "      <td>891.000000</td>\n",
       "      <td>1.000000</td>\n",
       "      <td>3.000000</td>\n",
       "      <td>NaN</td>\n",
       "      <td>NaN</td>\n",
       "      <td>80.000000</td>\n",
       "      <td>8.000000</td>\n",
       "      <td>6.000000</td>\n",
       "      <td>NaN</td>\n",
       "      <td>512.329200</td>\n",
       "      <td>NaN</td>\n",
       "      <td>NaN</td>\n",
       "    </tr>\n",
       "  </tbody>\n",
       "</table>\n",
       "</div>"
      ],
      "text/plain": [
       "        PassengerId    Survived      Pclass                          Name  \\\n",
       "count    891.000000  891.000000  891.000000                           891   \n",
       "unique          NaN         NaN         NaN                           891   \n",
       "top             NaN         NaN         NaN  Harknett, Miss. Alice Phoebe   \n",
       "freq            NaN         NaN         NaN                             1   \n",
       "mean     446.000000    0.383838    2.308642                           NaN   \n",
       "std      257.353842    0.486592    0.836071                           NaN   \n",
       "min        1.000000    0.000000    1.000000                           NaN   \n",
       "25%      223.500000    0.000000    2.000000                           NaN   \n",
       "50%      446.000000    0.000000    3.000000                           NaN   \n",
       "75%      668.500000    1.000000    3.000000                           NaN   \n",
       "max      891.000000    1.000000    3.000000                           NaN   \n",
       "\n",
       "         Sex         Age       SibSp       Parch    Ticket        Fare  \\\n",
       "count    891  714.000000  891.000000  891.000000       891  891.000000   \n",
       "unique     2         NaN         NaN         NaN       681         NaN   \n",
       "top     male         NaN         NaN         NaN  CA. 2343         NaN   \n",
       "freq     577         NaN         NaN         NaN         7         NaN   \n",
       "mean     NaN   29.699118    0.523008    0.381594       NaN   32.204208   \n",
       "std      NaN   14.526497    1.102743    0.806057       NaN   49.693429   \n",
       "min      NaN    0.420000    0.000000    0.000000       NaN    0.000000   \n",
       "25%      NaN   20.125000    0.000000    0.000000       NaN    7.910400   \n",
       "50%      NaN   28.000000    0.000000    0.000000       NaN   14.454200   \n",
       "75%      NaN   38.000000    1.000000    0.000000       NaN   31.000000   \n",
       "max      NaN   80.000000    8.000000    6.000000       NaN  512.329200   \n",
       "\n",
       "          Cabin Embarked  \n",
       "count       204      889  \n",
       "unique      147        3  \n",
       "top     B96 B98        S  \n",
       "freq          4      644  \n",
       "mean        NaN      NaN  \n",
       "std         NaN      NaN  \n",
       "min         NaN      NaN  \n",
       "25%         NaN      NaN  \n",
       "50%         NaN      NaN  \n",
       "75%         NaN      NaN  \n",
       "max         NaN      NaN  "
      ]
     },
     "execution_count": 10,
     "metadata": {},
     "output_type": "execute_result"
    }
   ],
   "source": [
    "data_raw.describe(include = 'all')"
   ]
  },
  {
   "cell_type": "markdown",
   "execution_count": null,
   "metadata": {
    "papermill": {
     "duration": 0.016513,
     "end_time": "2020-08-12T02:37:32.546540",
     "exception": false,
     "start_time": "2020-08-12T02:37:32.530027",
     "status": "completed"
    },
    "tags": []
   },
   "source": [
    "## Cleaning the dataset"
   ]
  },
  {
   "cell_type": "code",
   "execution_count": 11,
   "metadata": {
    "execution": {
     "iopub.execute_input": "2020-08-12T02:37:32.593371Z",
     "iopub.status.busy": "2020-08-12T02:37:32.592509Z",
     "iopub.status.idle": "2020-08-12T02:37:32.596039Z",
     "shell.execute_reply": "2020-08-12T02:37:32.595391Z"
    },
    "papermill": {
     "duration": 0.032814,
     "end_time": "2020-08-12T02:37:32.596169",
     "exception": false,
     "start_time": "2020-08-12T02:37:32.563355",
     "status": "completed"
    },
    "tags": []
   },
   "outputs": [],
   "source": [
    "###COMPLETING: complete or delete missing values in train and test/validation dataset\n",
    "for dataset in data_to_be_cleaned:    \n",
    "    #complete missing age with median\n",
    "    dataset['Age'].fillna(dataset['Age'].median(), inplace = True)\n",
    "\n",
    "    #complete embarked with mode\n",
    "    dataset['Embarked'].fillna(dataset['Embarked'].mode()[0], inplace = True)\n",
    "\n",
    "    #complete missing fare with median\n",
    "    dataset['Fare'].fillna(dataset['Fare'].median(), inplace = True)"
   ]
  },
  {
   "cell_type": "code",
   "execution_count": 12,
   "metadata": {
    "execution": {
     "iopub.execute_input": "2020-08-12T02:37:32.660830Z",
     "iopub.status.busy": "2020-08-12T02:37:32.642969Z",
     "iopub.status.idle": "2020-08-12T02:37:32.665196Z",
     "shell.execute_reply": "2020-08-12T02:37:32.665799Z"
    },
    "papermill": {
     "duration": 0.053132,
     "end_time": "2020-08-12T02:37:32.665990",
     "exception": false,
     "start_time": "2020-08-12T02:37:32.612858",
     "status": "completed"
    },
    "tags": []
   },
   "outputs": [
    {
     "data": {
      "text/plain": [
       "[     PassengerId  Survived  Pclass  \\\n",
       " 0              1         0       3   \n",
       " 1              2         1       1   \n",
       " 2              3         1       3   \n",
       " 3              4         1       1   \n",
       " 4              5         0       3   \n",
       " ..           ...       ...     ...   \n",
       " 886          887         0       2   \n",
       " 887          888         1       1   \n",
       " 888          889         0       3   \n",
       " 889          890         1       1   \n",
       " 890          891         0       3   \n",
       " \n",
       "                                                   Name     Sex   Age  SibSp  \\\n",
       " 0                              Braund, Mr. Owen Harris    male  22.0      1   \n",
       " 1    Cumings, Mrs. John Bradley (Florence Briggs Th...  female  38.0      1   \n",
       " 2                               Heikkinen, Miss. Laina  female  26.0      0   \n",
       " 3         Futrelle, Mrs. Jacques Heath (Lily May Peel)  female  35.0      1   \n",
       " 4                             Allen, Mr. William Henry    male  35.0      0   \n",
       " ..                                                 ...     ...   ...    ...   \n",
       " 886                              Montvila, Rev. Juozas    male  27.0      0   \n",
       " 887                       Graham, Miss. Margaret Edith  female  19.0      0   \n",
       " 888           Johnston, Miss. Catherine Helen \"Carrie\"  female  28.0      1   \n",
       " 889                              Behr, Mr. Karl Howell    male  26.0      0   \n",
       " 890                                Dooley, Mr. Patrick    male  32.0      0   \n",
       " \n",
       "      Parch            Ticket     Fare Cabin Embarked  \n",
       " 0        0         A/5 21171   7.2500   NaN        S  \n",
       " 1        0          PC 17599  71.2833   C85        C  \n",
       " 2        0  STON/O2. 3101282   7.9250   NaN        S  \n",
       " 3        0            113803  53.1000  C123        S  \n",
       " 4        0            373450   8.0500   NaN        S  \n",
       " ..     ...               ...      ...   ...      ...  \n",
       " 886      0            211536  13.0000   NaN        S  \n",
       " 887      0            112053  30.0000   B42        S  \n",
       " 888      2        W./C. 6607  23.4500   NaN        S  \n",
       " 889      0            111369  30.0000  C148        C  \n",
       " 890      0            370376   7.7500   NaN        Q  \n",
       " \n",
       " [891 rows x 12 columns],\n",
       "      PassengerId  Pclass                                          Name  \\\n",
       " 0            892       3                              Kelly, Mr. James   \n",
       " 1            893       3              Wilkes, Mrs. James (Ellen Needs)   \n",
       " 2            894       2                     Myles, Mr. Thomas Francis   \n",
       " 3            895       3                              Wirz, Mr. Albert   \n",
       " 4            896       3  Hirvonen, Mrs. Alexander (Helga E Lindqvist)   \n",
       " ..           ...     ...                                           ...   \n",
       " 413         1305       3                            Spector, Mr. Woolf   \n",
       " 414         1306       1                  Oliva y Ocana, Dona. Fermina   \n",
       " 415         1307       3                  Saether, Mr. Simon Sivertsen   \n",
       " 416         1308       3                           Ware, Mr. Frederick   \n",
       " 417         1309       3                      Peter, Master. Michael J   \n",
       " \n",
       "         Sex   Age  SibSp  Parch              Ticket      Fare Cabin Embarked  \n",
       " 0      male  34.5      0      0              330911    7.8292   NaN        Q  \n",
       " 1    female  47.0      1      0              363272    7.0000   NaN        S  \n",
       " 2      male  62.0      0      0              240276    9.6875   NaN        Q  \n",
       " 3      male  27.0      0      0              315154    8.6625   NaN        S  \n",
       " 4    female  22.0      1      1             3101298   12.2875   NaN        S  \n",
       " ..      ...   ...    ...    ...                 ...       ...   ...      ...  \n",
       " 413    male  27.0      0      0           A.5. 3236    8.0500   NaN        S  \n",
       " 414  female  39.0      0      0            PC 17758  108.9000  C105        C  \n",
       " 415    male  38.5      0      0  SOTON/O.Q. 3101262    7.2500   NaN        S  \n",
       " 416    male  27.0      0      0              359309    8.0500   NaN        S  \n",
       " 417    male  27.0      1      1                2668   22.3583   NaN        C  \n",
       " \n",
       " [418 rows x 11 columns]]"
      ]
     },
     "execution_count": 12,
     "metadata": {},
     "output_type": "execute_result"
    }
   ],
   "source": [
    "data_to_be_cleaned"
   ]
  },
  {
   "cell_type": "code",
   "execution_count": 13,
   "metadata": {
    "execution": {
     "iopub.execute_input": "2020-08-12T02:37:32.714421Z",
     "iopub.status.busy": "2020-08-12T02:37:32.713422Z",
     "iopub.status.idle": "2020-08-12T02:37:32.718256Z",
     "shell.execute_reply": "2020-08-12T02:37:32.717494Z"
    },
    "papermill": {
     "duration": 0.035481,
     "end_time": "2020-08-12T02:37:32.718388",
     "exception": false,
     "start_time": "2020-08-12T02:37:32.682907",
     "status": "completed"
    },
    "tags": []
   },
   "outputs": [
    {
     "name": "stdout",
     "output_type": "stream",
     "text": [
      "Survived    0\n",
      "Pclass      0\n",
      "Name        0\n",
      "Sex         0\n",
      "Age         0\n",
      "SibSp       0\n",
      "Parch       0\n",
      "Fare        0\n",
      "Embarked    0\n",
      "dtype: int64\n",
      "--------------------------------------------------\n",
      "PassengerId      0\n",
      "Pclass           0\n",
      "Name             0\n",
      "Sex              0\n",
      "Age              0\n",
      "SibSp            0\n",
      "Parch            0\n",
      "Ticket           0\n",
      "Fare             0\n",
      "Cabin          327\n",
      "Embarked         0\n",
      "dtype: int64\n"
     ]
    }
   ],
   "source": [
    "#delete the cabin feature/column and others previously stated to exclude in train dataset\n",
    "drop_column = ['PassengerId','Cabin', 'Ticket']\n",
    "data_train.drop(drop_column, axis=1, inplace = True)\n",
    "\n",
    "print(data_train.isnull().sum())\n",
    "print(\"-\"*50)\n",
    "print(data_test.isnull().sum())"
   ]
  },
  {
   "cell_type": "code",
   "execution_count": 14,
   "metadata": {
    "execution": {
     "iopub.execute_input": "2020-08-12T02:37:32.765272Z",
     "iopub.status.busy": "2020-08-12T02:37:32.763759Z",
     "iopub.status.idle": "2020-08-12T02:37:32.810866Z",
     "shell.execute_reply": "2020-08-12T02:37:32.811417Z"
    },
    "papermill": {
     "duration": 0.076145,
     "end_time": "2020-08-12T02:37:32.811602",
     "exception": false,
     "start_time": "2020-08-12T02:37:32.735457",
     "status": "completed"
    },
    "tags": []
   },
   "outputs": [],
   "source": [
    "###CREATE: Feature Engineering for train and test/validation dataset\n",
    "for dataset in data_to_be_cleaned:    \n",
    "    #Discrete variables\n",
    "    dataset['FamilySize'] = dataset ['SibSp'] + dataset['Parch'] + 1\n",
    "\n",
    "    dataset['IsAlone'] = 1 #initialize to yes/1 is alone\n",
    "    dataset['IsAlone'].loc[dataset['FamilySize'] > 1] = 0 # now update to no/0 if family size is greater than 1\n",
    "\n",
    "    #quick and dirty code split title from name\n",
    "    dataset['Title'] = dataset['Name'].str.split(\", \", expand=True)[1].str.split(\".\", expand=True)[0]\n",
    "\n",
    "\n",
    "    #Continuous variable bins\n",
    "    dataset['FareBin'] = pd.qcut(dataset['Fare'], 4)\n",
    "\n",
    "    #Age Bins/Buckets using cut or value bins\n",
    "    dataset['AgeBin'] = pd.cut(dataset['Age'].astype(int), 5)"
   ]
  },
  {
   "cell_type": "code",
   "execution_count": 15,
   "metadata": {
    "execution": {
     "iopub.execute_input": "2020-08-12T02:37:32.852204Z",
     "iopub.status.busy": "2020-08-12T02:37:32.851433Z",
     "iopub.status.idle": "2020-08-12T02:37:32.868959Z",
     "shell.execute_reply": "2020-08-12T02:37:32.869783Z"
    },
    "papermill": {
     "duration": 0.041356,
     "end_time": "2020-08-12T02:37:32.870020",
     "exception": false,
     "start_time": "2020-08-12T02:37:32.828664",
     "status": "completed"
    },
    "tags": []
   },
   "outputs": [
    {
     "name": "stdout",
     "output_type": "stream",
     "text": [
      "<class 'pandas.core.frame.DataFrame'>\n",
      "RangeIndex: 891 entries, 0 to 890\n",
      "Data columns (total 14 columns):\n",
      " #   Column      Non-Null Count  Dtype   \n",
      "---  ------      --------------  -----   \n",
      " 0   Survived    891 non-null    int64   \n",
      " 1   Pclass      891 non-null    int64   \n",
      " 2   Name        891 non-null    object  \n",
      " 3   Sex         891 non-null    object  \n",
      " 4   Age         891 non-null    float64 \n",
      " 5   SibSp       891 non-null    int64   \n",
      " 6   Parch       891 non-null    int64   \n",
      " 7   Fare        891 non-null    float64 \n",
      " 8   Embarked    891 non-null    object  \n",
      " 9   FamilySize  891 non-null    int64   \n",
      " 10  IsAlone     891 non-null    int64   \n",
      " 11  Title       891 non-null    object  \n",
      " 12  FareBin     891 non-null    category\n",
      " 13  AgeBin      891 non-null    category\n",
      "dtypes: category(2), float64(2), int64(6), object(4)\n",
      "memory usage: 85.8+ KB\n"
     ]
    }
   ],
   "source": [
    "data_to_be_cleaned[0].info()"
   ]
  },
  {
   "cell_type": "code",
   "execution_count": 16,
   "metadata": {
    "execution": {
     "iopub.execute_input": "2020-08-12T02:37:32.918910Z",
     "iopub.status.busy": "2020-08-12T02:37:32.917991Z",
     "iopub.status.idle": "2020-08-12T02:37:32.928636Z",
     "shell.execute_reply": "2020-08-12T02:37:32.927514Z"
    },
    "papermill": {
     "duration": 0.040672,
     "end_time": "2020-08-12T02:37:32.928860",
     "exception": false,
     "start_time": "2020-08-12T02:37:32.888188",
     "status": "completed"
    },
    "tags": []
   },
   "outputs": [
    {
     "name": "stdout",
     "output_type": "stream",
     "text": [
      "<class 'pandas.core.frame.DataFrame'>\n",
      "RangeIndex: 418 entries, 0 to 417\n",
      "Data columns (total 16 columns):\n",
      " #   Column       Non-Null Count  Dtype   \n",
      "---  ------       --------------  -----   \n",
      " 0   PassengerId  418 non-null    int64   \n",
      " 1   Pclass       418 non-null    int64   \n",
      " 2   Name         418 non-null    object  \n",
      " 3   Sex          418 non-null    object  \n",
      " 4   Age          418 non-null    float64 \n",
      " 5   SibSp        418 non-null    int64   \n",
      " 6   Parch        418 non-null    int64   \n",
      " 7   Ticket       418 non-null    object  \n",
      " 8   Fare         418 non-null    float64 \n",
      " 9   Cabin        91 non-null     object  \n",
      " 10  Embarked     418 non-null    object  \n",
      " 11  FamilySize   418 non-null    int64   \n",
      " 12  IsAlone      418 non-null    int64   \n",
      " 13  Title        418 non-null    object  \n",
      " 14  FareBin      418 non-null    category\n",
      " 15  AgeBin       418 non-null    category\n",
      "dtypes: category(2), float64(2), int64(6), object(6)\n",
      "memory usage: 47.1+ KB\n"
     ]
    }
   ],
   "source": [
    "data_to_be_cleaned[1].info()"
   ]
  },
  {
   "cell_type": "code",
   "execution_count": 17,
   "metadata": {
    "execution": {
     "iopub.execute_input": "2020-08-12T02:37:32.987687Z",
     "iopub.status.busy": "2020-08-12T02:37:32.982404Z",
     "iopub.status.idle": "2020-08-12T02:37:33.006940Z",
     "shell.execute_reply": "2020-08-12T02:37:33.005424Z"
    },
    "papermill": {
     "duration": 0.060151,
     "end_time": "2020-08-12T02:37:33.007155",
     "exception": false,
     "start_time": "2020-08-12T02:37:32.947004",
     "status": "completed"
    },
    "tags": []
   },
   "outputs": [
    {
     "name": "stdout",
     "output_type": "stream",
     "text": [
      "Mr              517\n",
      "Miss            182\n",
      "Mrs             125\n",
      "Master           40\n",
      "Dr                7\n",
      "Rev               6\n",
      "Col               2\n",
      "Mlle              2\n",
      "Major             2\n",
      "Mme               1\n",
      "the Countess      1\n",
      "Don               1\n",
      "Ms                1\n",
      "Jonkheer          1\n",
      "Lady              1\n",
      "Sir               1\n",
      "Capt              1\n",
      "Name: Title, dtype: int64\n",
      "*-**-**-**-**-**-**-**-**-**-*\n",
      "Mr        517\n",
      "Miss      182\n",
      "Mrs       125\n",
      "Master     40\n",
      "Misc       27\n",
      "Name: Title, dtype: int64\n",
      "--------------------------------------------------\n"
     ]
    }
   ],
   "source": [
    "#cleanup rare title names\n",
    "print(data_train['Title'].value_counts())\n",
    "print('*-*'*10)\n",
    "stat_min = 10 \n",
    "title_names = (data_train['Title'].value_counts() < stat_min) #this will create a true false series with title name as index\n",
    "\n",
    "#apply and lambda functions are quick and dirty code to find and replace with fewer lines of code\n",
    "data_train['Title'] = data_train['Title'].apply(lambda x: 'Misc' if title_names.loc[x] == True else x)\n",
    "print(data_train['Title'].value_counts())\n",
    "print(\"-\"*50)"
   ]
  },
  {
   "cell_type": "code",
   "execution_count": 18,
   "metadata": {
    "execution": {
     "iopub.execute_input": "2020-08-12T02:37:33.064328Z",
     "iopub.status.busy": "2020-08-12T02:37:33.054811Z",
     "iopub.status.idle": "2020-08-12T02:37:33.105898Z",
     "shell.execute_reply": "2020-08-12T02:37:33.105237Z"
    },
    "papermill": {
     "duration": 0.08011,
     "end_time": "2020-08-12T02:37:33.106040",
     "exception": false,
     "start_time": "2020-08-12T02:37:33.025930",
     "status": "completed"
    },
    "tags": []
   },
   "outputs": [
    {
     "name": "stdout",
     "output_type": "stream",
     "text": [
      "<class 'pandas.core.frame.DataFrame'>\n",
      "RangeIndex: 891 entries, 0 to 890\n",
      "Data columns (total 14 columns):\n",
      " #   Column      Non-Null Count  Dtype   \n",
      "---  ------      --------------  -----   \n",
      " 0   Survived    891 non-null    int64   \n",
      " 1   Pclass      891 non-null    int64   \n",
      " 2   Name        891 non-null    object  \n",
      " 3   Sex         891 non-null    object  \n",
      " 4   Age         891 non-null    float64 \n",
      " 5   SibSp       891 non-null    int64   \n",
      " 6   Parch       891 non-null    int64   \n",
      " 7   Fare        891 non-null    float64 \n",
      " 8   Embarked    891 non-null    object  \n",
      " 9   FamilySize  891 non-null    int64   \n",
      " 10  IsAlone     891 non-null    int64   \n",
      " 11  Title       891 non-null    object  \n",
      " 12  FareBin     891 non-null    category\n",
      " 13  AgeBin      891 non-null    category\n",
      "dtypes: category(2), float64(2), int64(6), object(4)\n",
      "memory usage: 85.8+ KB\n",
      "<class 'pandas.core.frame.DataFrame'>\n",
      "RangeIndex: 418 entries, 0 to 417\n",
      "Data columns (total 16 columns):\n",
      " #   Column       Non-Null Count  Dtype   \n",
      "---  ------       --------------  -----   \n",
      " 0   PassengerId  418 non-null    int64   \n",
      " 1   Pclass       418 non-null    int64   \n",
      " 2   Name         418 non-null    object  \n",
      " 3   Sex          418 non-null    object  \n",
      " 4   Age          418 non-null    float64 \n",
      " 5   SibSp        418 non-null    int64   \n",
      " 6   Parch        418 non-null    int64   \n",
      " 7   Ticket       418 non-null    object  \n",
      " 8   Fare         418 non-null    float64 \n",
      " 9   Cabin        91 non-null     object  \n",
      " 10  Embarked     418 non-null    object  \n",
      " 11  FamilySize   418 non-null    int64   \n",
      " 12  IsAlone      418 non-null    int64   \n",
      " 13  Title        418 non-null    object  \n",
      " 14  FareBin      418 non-null    category\n",
      " 15  AgeBin       418 non-null    category\n",
      "dtypes: category(2), float64(2), int64(6), object(6)\n",
      "memory usage: 47.1+ KB\n"
     ]
    },
    {
     "data": {
      "text/html": [
       "<div>\n",
       "<style scoped>\n",
       "    .dataframe tbody tr th:only-of-type {\n",
       "        vertical-align: middle;\n",
       "    }\n",
       "\n",
       "    .dataframe tbody tr th {\n",
       "        vertical-align: top;\n",
       "    }\n",
       "\n",
       "    .dataframe thead th {\n",
       "        text-align: right;\n",
       "    }\n",
       "</style>\n",
       "<table border=\"1\" class=\"dataframe\">\n",
       "  <thead>\n",
       "    <tr style=\"text-align: right;\">\n",
       "      <th></th>\n",
       "      <th>Survived</th>\n",
       "      <th>Pclass</th>\n",
       "      <th>Name</th>\n",
       "      <th>Sex</th>\n",
       "      <th>Age</th>\n",
       "      <th>SibSp</th>\n",
       "      <th>Parch</th>\n",
       "      <th>Fare</th>\n",
       "      <th>Embarked</th>\n",
       "      <th>FamilySize</th>\n",
       "      <th>IsAlone</th>\n",
       "      <th>Title</th>\n",
       "      <th>FareBin</th>\n",
       "      <th>AgeBin</th>\n",
       "    </tr>\n",
       "  </thead>\n",
       "  <tbody>\n",
       "    <tr>\n",
       "      <th>0</th>\n",
       "      <td>0</td>\n",
       "      <td>3</td>\n",
       "      <td>Braund, Mr. Owen Harris</td>\n",
       "      <td>male</td>\n",
       "      <td>22.0</td>\n",
       "      <td>1</td>\n",
       "      <td>0</td>\n",
       "      <td>7.2500</td>\n",
       "      <td>S</td>\n",
       "      <td>2</td>\n",
       "      <td>0</td>\n",
       "      <td>Mr</td>\n",
       "      <td>(-0.001, 7.91]</td>\n",
       "      <td>(16.0, 32.0]</td>\n",
       "    </tr>\n",
       "    <tr>\n",
       "      <th>1</th>\n",
       "      <td>1</td>\n",
       "      <td>1</td>\n",
       "      <td>Cumings, Mrs. John Bradley (Florence Briggs Th...</td>\n",
       "      <td>female</td>\n",
       "      <td>38.0</td>\n",
       "      <td>1</td>\n",
       "      <td>0</td>\n",
       "      <td>71.2833</td>\n",
       "      <td>C</td>\n",
       "      <td>2</td>\n",
       "      <td>0</td>\n",
       "      <td>Mrs</td>\n",
       "      <td>(31.0, 512.329]</td>\n",
       "      <td>(32.0, 48.0]</td>\n",
       "    </tr>\n",
       "    <tr>\n",
       "      <th>2</th>\n",
       "      <td>1</td>\n",
       "      <td>3</td>\n",
       "      <td>Heikkinen, Miss. Laina</td>\n",
       "      <td>female</td>\n",
       "      <td>26.0</td>\n",
       "      <td>0</td>\n",
       "      <td>0</td>\n",
       "      <td>7.9250</td>\n",
       "      <td>S</td>\n",
       "      <td>1</td>\n",
       "      <td>1</td>\n",
       "      <td>Miss</td>\n",
       "      <td>(7.91, 14.454]</td>\n",
       "      <td>(16.0, 32.0]</td>\n",
       "    </tr>\n",
       "    <tr>\n",
       "      <th>3</th>\n",
       "      <td>1</td>\n",
       "      <td>1</td>\n",
       "      <td>Futrelle, Mrs. Jacques Heath (Lily May Peel)</td>\n",
       "      <td>female</td>\n",
       "      <td>35.0</td>\n",
       "      <td>1</td>\n",
       "      <td>0</td>\n",
       "      <td>53.1000</td>\n",
       "      <td>S</td>\n",
       "      <td>2</td>\n",
       "      <td>0</td>\n",
       "      <td>Mrs</td>\n",
       "      <td>(31.0, 512.329]</td>\n",
       "      <td>(32.0, 48.0]</td>\n",
       "    </tr>\n",
       "    <tr>\n",
       "      <th>4</th>\n",
       "      <td>0</td>\n",
       "      <td>3</td>\n",
       "      <td>Allen, Mr. William Henry</td>\n",
       "      <td>male</td>\n",
       "      <td>35.0</td>\n",
       "      <td>0</td>\n",
       "      <td>0</td>\n",
       "      <td>8.0500</td>\n",
       "      <td>S</td>\n",
       "      <td>1</td>\n",
       "      <td>1</td>\n",
       "      <td>Mr</td>\n",
       "      <td>(7.91, 14.454]</td>\n",
       "      <td>(32.0, 48.0]</td>\n",
       "    </tr>\n",
       "    <tr>\n",
       "      <th>5</th>\n",
       "      <td>0</td>\n",
       "      <td>3</td>\n",
       "      <td>Moran, Mr. James</td>\n",
       "      <td>male</td>\n",
       "      <td>28.0</td>\n",
       "      <td>0</td>\n",
       "      <td>0</td>\n",
       "      <td>8.4583</td>\n",
       "      <td>Q</td>\n",
       "      <td>1</td>\n",
       "      <td>1</td>\n",
       "      <td>Mr</td>\n",
       "      <td>(7.91, 14.454]</td>\n",
       "      <td>(16.0, 32.0]</td>\n",
       "    </tr>\n",
       "    <tr>\n",
       "      <th>6</th>\n",
       "      <td>0</td>\n",
       "      <td>1</td>\n",
       "      <td>McCarthy, Mr. Timothy J</td>\n",
       "      <td>male</td>\n",
       "      <td>54.0</td>\n",
       "      <td>0</td>\n",
       "      <td>0</td>\n",
       "      <td>51.8625</td>\n",
       "      <td>S</td>\n",
       "      <td>1</td>\n",
       "      <td>1</td>\n",
       "      <td>Mr</td>\n",
       "      <td>(31.0, 512.329]</td>\n",
       "      <td>(48.0, 64.0]</td>\n",
       "    </tr>\n",
       "    <tr>\n",
       "      <th>7</th>\n",
       "      <td>0</td>\n",
       "      <td>3</td>\n",
       "      <td>Palsson, Master. Gosta Leonard</td>\n",
       "      <td>male</td>\n",
       "      <td>2.0</td>\n",
       "      <td>3</td>\n",
       "      <td>1</td>\n",
       "      <td>21.0750</td>\n",
       "      <td>S</td>\n",
       "      <td>5</td>\n",
       "      <td>0</td>\n",
       "      <td>Master</td>\n",
       "      <td>(14.454, 31.0]</td>\n",
       "      <td>(-0.08, 16.0]</td>\n",
       "    </tr>\n",
       "    <tr>\n",
       "      <th>8</th>\n",
       "      <td>1</td>\n",
       "      <td>3</td>\n",
       "      <td>Johnson, Mrs. Oscar W (Elisabeth Vilhelmina Berg)</td>\n",
       "      <td>female</td>\n",
       "      <td>27.0</td>\n",
       "      <td>0</td>\n",
       "      <td>2</td>\n",
       "      <td>11.1333</td>\n",
       "      <td>S</td>\n",
       "      <td>3</td>\n",
       "      <td>0</td>\n",
       "      <td>Mrs</td>\n",
       "      <td>(7.91, 14.454]</td>\n",
       "      <td>(16.0, 32.0]</td>\n",
       "    </tr>\n",
       "    <tr>\n",
       "      <th>9</th>\n",
       "      <td>1</td>\n",
       "      <td>2</td>\n",
       "      <td>Nasser, Mrs. Nicholas (Adele Achem)</td>\n",
       "      <td>female</td>\n",
       "      <td>14.0</td>\n",
       "      <td>1</td>\n",
       "      <td>0</td>\n",
       "      <td>30.0708</td>\n",
       "      <td>C</td>\n",
       "      <td>2</td>\n",
       "      <td>0</td>\n",
       "      <td>Mrs</td>\n",
       "      <td>(14.454, 31.0]</td>\n",
       "      <td>(-0.08, 16.0]</td>\n",
       "    </tr>\n",
       "  </tbody>\n",
       "</table>\n",
       "</div>"
      ],
      "text/plain": [
       "   Survived  Pclass                                               Name  \\\n",
       "0         0       3                            Braund, Mr. Owen Harris   \n",
       "1         1       1  Cumings, Mrs. John Bradley (Florence Briggs Th...   \n",
       "2         1       3                             Heikkinen, Miss. Laina   \n",
       "3         1       1       Futrelle, Mrs. Jacques Heath (Lily May Peel)   \n",
       "4         0       3                           Allen, Mr. William Henry   \n",
       "5         0       3                                   Moran, Mr. James   \n",
       "6         0       1                            McCarthy, Mr. Timothy J   \n",
       "7         0       3                     Palsson, Master. Gosta Leonard   \n",
       "8         1       3  Johnson, Mrs. Oscar W (Elisabeth Vilhelmina Berg)   \n",
       "9         1       2                Nasser, Mrs. Nicholas (Adele Achem)   \n",
       "\n",
       "      Sex   Age  SibSp  Parch     Fare Embarked  FamilySize  IsAlone   Title  \\\n",
       "0    male  22.0      1      0   7.2500        S           2        0      Mr   \n",
       "1  female  38.0      1      0  71.2833        C           2        0     Mrs   \n",
       "2  female  26.0      0      0   7.9250        S           1        1    Miss   \n",
       "3  female  35.0      1      0  53.1000        S           2        0     Mrs   \n",
       "4    male  35.0      0      0   8.0500        S           1        1      Mr   \n",
       "5    male  28.0      0      0   8.4583        Q           1        1      Mr   \n",
       "6    male  54.0      0      0  51.8625        S           1        1      Mr   \n",
       "7    male   2.0      3      1  21.0750        S           5        0  Master   \n",
       "8  female  27.0      0      2  11.1333        S           3        0     Mrs   \n",
       "9  female  14.0      1      0  30.0708        C           2        0     Mrs   \n",
       "\n",
       "           FareBin         AgeBin  \n",
       "0   (-0.001, 7.91]   (16.0, 32.0]  \n",
       "1  (31.0, 512.329]   (32.0, 48.0]  \n",
       "2   (7.91, 14.454]   (16.0, 32.0]  \n",
       "3  (31.0, 512.329]   (32.0, 48.0]  \n",
       "4   (7.91, 14.454]   (32.0, 48.0]  \n",
       "5   (7.91, 14.454]   (16.0, 32.0]  \n",
       "6  (31.0, 512.329]   (48.0, 64.0]  \n",
       "7   (14.454, 31.0]  (-0.08, 16.0]  \n",
       "8   (7.91, 14.454]   (16.0, 32.0]  \n",
       "9   (14.454, 31.0]  (-0.08, 16.0]  "
      ]
     },
     "execution_count": 18,
     "metadata": {},
     "output_type": "execute_result"
    }
   ],
   "source": [
    "#preview data again\n",
    "data_train.info()\n",
    "data_test.info()\n",
    "data_train.head(10)"
   ]
  },
  {
   "cell_type": "code",
   "execution_count": 19,
   "metadata": {
    "execution": {
     "iopub.execute_input": "2020-08-12T02:37:33.149901Z",
     "iopub.status.busy": "2020-08-12T02:37:33.149031Z",
     "iopub.status.idle": "2020-08-12T02:37:33.153637Z",
     "shell.execute_reply": "2020-08-12T02:37:33.154249Z"
    },
    "papermill": {
     "duration": 0.029933,
     "end_time": "2020-08-12T02:37:33.154424",
     "exception": false,
     "start_time": "2020-08-12T02:37:33.124491",
     "status": "completed"
    },
    "tags": []
   },
   "outputs": [
    {
     "data": {
      "text/plain": [
       "(418, 16)"
      ]
     },
     "execution_count": 19,
     "metadata": {},
     "output_type": "execute_result"
    }
   ],
   "source": [
    "data_test.shape"
   ]
  },
  {
   "cell_type": "code",
   "execution_count": 20,
   "metadata": {
    "execution": {
     "iopub.execute_input": "2020-08-12T02:37:33.197084Z",
     "iopub.status.busy": "2020-08-12T02:37:33.194335Z",
     "iopub.status.idle": "2020-08-12T02:37:33.202239Z",
     "shell.execute_reply": "2020-08-12T02:37:33.201437Z"
    },
    "papermill": {
     "duration": 0.029728,
     "end_time": "2020-08-12T02:37:33.202374",
     "exception": false,
     "start_time": "2020-08-12T02:37:33.172646",
     "status": "completed"
    },
    "tags": []
   },
   "outputs": [
    {
     "data": {
      "text/plain": [
       "(891, 14)"
      ]
     },
     "execution_count": 20,
     "metadata": {},
     "output_type": "execute_result"
    }
   ],
   "source": [
    "data_train.shape"
   ]
  },
  {
   "cell_type": "code",
   "execution_count": 21,
   "metadata": {
    "execution": {
     "iopub.execute_input": "2020-08-12T02:37:33.267783Z",
     "iopub.status.busy": "2020-08-12T02:37:33.266010Z",
     "iopub.status.idle": "2020-08-12T02:37:33.282268Z",
     "shell.execute_reply": "2020-08-12T02:37:33.282860Z"
    },
    "papermill": {
     "duration": 0.061431,
     "end_time": "2020-08-12T02:37:33.283053",
     "exception": false,
     "start_time": "2020-08-12T02:37:33.221622",
     "status": "completed"
    },
    "tags": []
   },
   "outputs": [],
   "source": [
    "#CONVERT: convert objects to category using Label Encoder for train and test/validation dataset\n",
    "\n",
    "#code categorical data\n",
    "label = LabelEncoder()\n",
    "for dataset in data_to_be_cleaned:    \n",
    "    dataset['Sex_Code'] = label.fit_transform(dataset['Sex'])\n",
    "    dataset['Embarked_Code'] = label.fit_transform(dataset['Embarked'])\n",
    "    dataset['Title_Code'] = label.fit_transform(dataset['Title'])\n",
    "    dataset['AgeBin_Code'] = label.fit_transform(dataset['AgeBin'])\n",
    "    dataset['FareBin_Code'] = label.fit_transform(dataset['FareBin'])\n"
   ]
  },
  {
   "cell_type": "code",
   "execution_count": 22,
   "metadata": {
    "execution": {
     "iopub.execute_input": "2020-08-12T02:37:33.357655Z",
     "iopub.status.busy": "2020-08-12T02:37:33.345049Z",
     "iopub.status.idle": "2020-08-12T02:37:33.392462Z",
     "shell.execute_reply": "2020-08-12T02:37:33.391700Z"
    },
    "papermill": {
     "duration": 0.090733,
     "end_time": "2020-08-12T02:37:33.392588",
     "exception": false,
     "start_time": "2020-08-12T02:37:33.301855",
     "status": "completed"
    },
    "tags": []
   },
   "outputs": [
    {
     "data": {
      "text/html": [
       "<div>\n",
       "<style scoped>\n",
       "    .dataframe tbody tr th:only-of-type {\n",
       "        vertical-align: middle;\n",
       "    }\n",
       "\n",
       "    .dataframe tbody tr th {\n",
       "        vertical-align: top;\n",
       "    }\n",
       "\n",
       "    .dataframe thead th {\n",
       "        text-align: right;\n",
       "    }\n",
       "</style>\n",
       "<table border=\"1\" class=\"dataframe\">\n",
       "  <thead>\n",
       "    <tr style=\"text-align: right;\">\n",
       "      <th></th>\n",
       "      <th>PassengerId</th>\n",
       "      <th>Pclass</th>\n",
       "      <th>Name</th>\n",
       "      <th>Sex</th>\n",
       "      <th>Age</th>\n",
       "      <th>SibSp</th>\n",
       "      <th>Parch</th>\n",
       "      <th>Ticket</th>\n",
       "      <th>Fare</th>\n",
       "      <th>Cabin</th>\n",
       "      <th>...</th>\n",
       "      <th>FamilySize</th>\n",
       "      <th>IsAlone</th>\n",
       "      <th>Title</th>\n",
       "      <th>FareBin</th>\n",
       "      <th>AgeBin</th>\n",
       "      <th>Sex_Code</th>\n",
       "      <th>Embarked_Code</th>\n",
       "      <th>Title_Code</th>\n",
       "      <th>AgeBin_Code</th>\n",
       "      <th>FareBin_Code</th>\n",
       "    </tr>\n",
       "  </thead>\n",
       "  <tbody>\n",
       "    <tr>\n",
       "      <th>0</th>\n",
       "      <td>892</td>\n",
       "      <td>3</td>\n",
       "      <td>Kelly, Mr. James</td>\n",
       "      <td>male</td>\n",
       "      <td>34.5</td>\n",
       "      <td>0</td>\n",
       "      <td>0</td>\n",
       "      <td>330911</td>\n",
       "      <td>7.8292</td>\n",
       "      <td>NaN</td>\n",
       "      <td>...</td>\n",
       "      <td>1</td>\n",
       "      <td>1</td>\n",
       "      <td>Mr</td>\n",
       "      <td>(-0.001, 7.896]</td>\n",
       "      <td>(30.4, 45.6]</td>\n",
       "      <td>1</td>\n",
       "      <td>1</td>\n",
       "      <td>5</td>\n",
       "      <td>2</td>\n",
       "      <td>0</td>\n",
       "    </tr>\n",
       "    <tr>\n",
       "      <th>1</th>\n",
       "      <td>893</td>\n",
       "      <td>3</td>\n",
       "      <td>Wilkes, Mrs. James (Ellen Needs)</td>\n",
       "      <td>female</td>\n",
       "      <td>47.0</td>\n",
       "      <td>1</td>\n",
       "      <td>0</td>\n",
       "      <td>363272</td>\n",
       "      <td>7.0000</td>\n",
       "      <td>NaN</td>\n",
       "      <td>...</td>\n",
       "      <td>2</td>\n",
       "      <td>0</td>\n",
       "      <td>Mrs</td>\n",
       "      <td>(-0.001, 7.896]</td>\n",
       "      <td>(45.6, 60.8]</td>\n",
       "      <td>0</td>\n",
       "      <td>2</td>\n",
       "      <td>6</td>\n",
       "      <td>3</td>\n",
       "      <td>0</td>\n",
       "    </tr>\n",
       "    <tr>\n",
       "      <th>2</th>\n",
       "      <td>894</td>\n",
       "      <td>2</td>\n",
       "      <td>Myles, Mr. Thomas Francis</td>\n",
       "      <td>male</td>\n",
       "      <td>62.0</td>\n",
       "      <td>0</td>\n",
       "      <td>0</td>\n",
       "      <td>240276</td>\n",
       "      <td>9.6875</td>\n",
       "      <td>NaN</td>\n",
       "      <td>...</td>\n",
       "      <td>1</td>\n",
       "      <td>1</td>\n",
       "      <td>Mr</td>\n",
       "      <td>(7.896, 14.454]</td>\n",
       "      <td>(60.8, 76.0]</td>\n",
       "      <td>1</td>\n",
       "      <td>1</td>\n",
       "      <td>5</td>\n",
       "      <td>4</td>\n",
       "      <td>1</td>\n",
       "    </tr>\n",
       "    <tr>\n",
       "      <th>3</th>\n",
       "      <td>895</td>\n",
       "      <td>3</td>\n",
       "      <td>Wirz, Mr. Albert</td>\n",
       "      <td>male</td>\n",
       "      <td>27.0</td>\n",
       "      <td>0</td>\n",
       "      <td>0</td>\n",
       "      <td>315154</td>\n",
       "      <td>8.6625</td>\n",
       "      <td>NaN</td>\n",
       "      <td>...</td>\n",
       "      <td>1</td>\n",
       "      <td>1</td>\n",
       "      <td>Mr</td>\n",
       "      <td>(7.896, 14.454]</td>\n",
       "      <td>(15.2, 30.4]</td>\n",
       "      <td>1</td>\n",
       "      <td>2</td>\n",
       "      <td>5</td>\n",
       "      <td>1</td>\n",
       "      <td>1</td>\n",
       "    </tr>\n",
       "    <tr>\n",
       "      <th>4</th>\n",
       "      <td>896</td>\n",
       "      <td>3</td>\n",
       "      <td>Hirvonen, Mrs. Alexander (Helga E Lindqvist)</td>\n",
       "      <td>female</td>\n",
       "      <td>22.0</td>\n",
       "      <td>1</td>\n",
       "      <td>1</td>\n",
       "      <td>3101298</td>\n",
       "      <td>12.2875</td>\n",
       "      <td>NaN</td>\n",
       "      <td>...</td>\n",
       "      <td>3</td>\n",
       "      <td>0</td>\n",
       "      <td>Mrs</td>\n",
       "      <td>(7.896, 14.454]</td>\n",
       "      <td>(15.2, 30.4]</td>\n",
       "      <td>0</td>\n",
       "      <td>2</td>\n",
       "      <td>6</td>\n",
       "      <td>1</td>\n",
       "      <td>1</td>\n",
       "    </tr>\n",
       "    <tr>\n",
       "      <th>...</th>\n",
       "      <td>...</td>\n",
       "      <td>...</td>\n",
       "      <td>...</td>\n",
       "      <td>...</td>\n",
       "      <td>...</td>\n",
       "      <td>...</td>\n",
       "      <td>...</td>\n",
       "      <td>...</td>\n",
       "      <td>...</td>\n",
       "      <td>...</td>\n",
       "      <td>...</td>\n",
       "      <td>...</td>\n",
       "      <td>...</td>\n",
       "      <td>...</td>\n",
       "      <td>...</td>\n",
       "      <td>...</td>\n",
       "      <td>...</td>\n",
       "      <td>...</td>\n",
       "      <td>...</td>\n",
       "      <td>...</td>\n",
       "      <td>...</td>\n",
       "    </tr>\n",
       "    <tr>\n",
       "      <th>413</th>\n",
       "      <td>1305</td>\n",
       "      <td>3</td>\n",
       "      <td>Spector, Mr. Woolf</td>\n",
       "      <td>male</td>\n",
       "      <td>27.0</td>\n",
       "      <td>0</td>\n",
       "      <td>0</td>\n",
       "      <td>A.5. 3236</td>\n",
       "      <td>8.0500</td>\n",
       "      <td>NaN</td>\n",
       "      <td>...</td>\n",
       "      <td>1</td>\n",
       "      <td>1</td>\n",
       "      <td>Mr</td>\n",
       "      <td>(7.896, 14.454]</td>\n",
       "      <td>(15.2, 30.4]</td>\n",
       "      <td>1</td>\n",
       "      <td>2</td>\n",
       "      <td>5</td>\n",
       "      <td>1</td>\n",
       "      <td>1</td>\n",
       "    </tr>\n",
       "    <tr>\n",
       "      <th>414</th>\n",
       "      <td>1306</td>\n",
       "      <td>1</td>\n",
       "      <td>Oliva y Ocana, Dona. Fermina</td>\n",
       "      <td>female</td>\n",
       "      <td>39.0</td>\n",
       "      <td>0</td>\n",
       "      <td>0</td>\n",
       "      <td>PC 17758</td>\n",
       "      <td>108.9000</td>\n",
       "      <td>C105</td>\n",
       "      <td>...</td>\n",
       "      <td>1</td>\n",
       "      <td>1</td>\n",
       "      <td>Dona</td>\n",
       "      <td>(31.472, 512.329]</td>\n",
       "      <td>(30.4, 45.6]</td>\n",
       "      <td>0</td>\n",
       "      <td>0</td>\n",
       "      <td>1</td>\n",
       "      <td>2</td>\n",
       "      <td>3</td>\n",
       "    </tr>\n",
       "    <tr>\n",
       "      <th>415</th>\n",
       "      <td>1307</td>\n",
       "      <td>3</td>\n",
       "      <td>Saether, Mr. Simon Sivertsen</td>\n",
       "      <td>male</td>\n",
       "      <td>38.5</td>\n",
       "      <td>0</td>\n",
       "      <td>0</td>\n",
       "      <td>SOTON/O.Q. 3101262</td>\n",
       "      <td>7.2500</td>\n",
       "      <td>NaN</td>\n",
       "      <td>...</td>\n",
       "      <td>1</td>\n",
       "      <td>1</td>\n",
       "      <td>Mr</td>\n",
       "      <td>(-0.001, 7.896]</td>\n",
       "      <td>(30.4, 45.6]</td>\n",
       "      <td>1</td>\n",
       "      <td>2</td>\n",
       "      <td>5</td>\n",
       "      <td>2</td>\n",
       "      <td>0</td>\n",
       "    </tr>\n",
       "    <tr>\n",
       "      <th>416</th>\n",
       "      <td>1308</td>\n",
       "      <td>3</td>\n",
       "      <td>Ware, Mr. Frederick</td>\n",
       "      <td>male</td>\n",
       "      <td>27.0</td>\n",
       "      <td>0</td>\n",
       "      <td>0</td>\n",
       "      <td>359309</td>\n",
       "      <td>8.0500</td>\n",
       "      <td>NaN</td>\n",
       "      <td>...</td>\n",
       "      <td>1</td>\n",
       "      <td>1</td>\n",
       "      <td>Mr</td>\n",
       "      <td>(7.896, 14.454]</td>\n",
       "      <td>(15.2, 30.4]</td>\n",
       "      <td>1</td>\n",
       "      <td>2</td>\n",
       "      <td>5</td>\n",
       "      <td>1</td>\n",
       "      <td>1</td>\n",
       "    </tr>\n",
       "    <tr>\n",
       "      <th>417</th>\n",
       "      <td>1309</td>\n",
       "      <td>3</td>\n",
       "      <td>Peter, Master. Michael J</td>\n",
       "      <td>male</td>\n",
       "      <td>27.0</td>\n",
       "      <td>1</td>\n",
       "      <td>1</td>\n",
       "      <td>2668</td>\n",
       "      <td>22.3583</td>\n",
       "      <td>NaN</td>\n",
       "      <td>...</td>\n",
       "      <td>3</td>\n",
       "      <td>0</td>\n",
       "      <td>Master</td>\n",
       "      <td>(14.454, 31.472]</td>\n",
       "      <td>(15.2, 30.4]</td>\n",
       "      <td>1</td>\n",
       "      <td>0</td>\n",
       "      <td>3</td>\n",
       "      <td>1</td>\n",
       "      <td>2</td>\n",
       "    </tr>\n",
       "  </tbody>\n",
       "</table>\n",
       "<p>418 rows × 21 columns</p>\n",
       "</div>"
      ],
      "text/plain": [
       "     PassengerId  Pclass                                          Name  \\\n",
       "0            892       3                              Kelly, Mr. James   \n",
       "1            893       3              Wilkes, Mrs. James (Ellen Needs)   \n",
       "2            894       2                     Myles, Mr. Thomas Francis   \n",
       "3            895       3                              Wirz, Mr. Albert   \n",
       "4            896       3  Hirvonen, Mrs. Alexander (Helga E Lindqvist)   \n",
       "..           ...     ...                                           ...   \n",
       "413         1305       3                            Spector, Mr. Woolf   \n",
       "414         1306       1                  Oliva y Ocana, Dona. Fermina   \n",
       "415         1307       3                  Saether, Mr. Simon Sivertsen   \n",
       "416         1308       3                           Ware, Mr. Frederick   \n",
       "417         1309       3                      Peter, Master. Michael J   \n",
       "\n",
       "        Sex   Age  SibSp  Parch              Ticket      Fare Cabin  ...  \\\n",
       "0      male  34.5      0      0              330911    7.8292   NaN  ...   \n",
       "1    female  47.0      1      0              363272    7.0000   NaN  ...   \n",
       "2      male  62.0      0      0              240276    9.6875   NaN  ...   \n",
       "3      male  27.0      0      0              315154    8.6625   NaN  ...   \n",
       "4    female  22.0      1      1             3101298   12.2875   NaN  ...   \n",
       "..      ...   ...    ...    ...                 ...       ...   ...  ...   \n",
       "413    male  27.0      0      0           A.5. 3236    8.0500   NaN  ...   \n",
       "414  female  39.0      0      0            PC 17758  108.9000  C105  ...   \n",
       "415    male  38.5      0      0  SOTON/O.Q. 3101262    7.2500   NaN  ...   \n",
       "416    male  27.0      0      0              359309    8.0500   NaN  ...   \n",
       "417    male  27.0      1      1                2668   22.3583   NaN  ...   \n",
       "\n",
       "    FamilySize  IsAlone   Title            FareBin        AgeBin Sex_Code  \\\n",
       "0            1        1      Mr    (-0.001, 7.896]  (30.4, 45.6]        1   \n",
       "1            2        0     Mrs    (-0.001, 7.896]  (45.6, 60.8]        0   \n",
       "2            1        1      Mr    (7.896, 14.454]  (60.8, 76.0]        1   \n",
       "3            1        1      Mr    (7.896, 14.454]  (15.2, 30.4]        1   \n",
       "4            3        0     Mrs    (7.896, 14.454]  (15.2, 30.4]        0   \n",
       "..         ...      ...     ...                ...           ...      ...   \n",
       "413          1        1      Mr    (7.896, 14.454]  (15.2, 30.4]        1   \n",
       "414          1        1    Dona  (31.472, 512.329]  (30.4, 45.6]        0   \n",
       "415          1        1      Mr    (-0.001, 7.896]  (30.4, 45.6]        1   \n",
       "416          1        1      Mr    (7.896, 14.454]  (15.2, 30.4]        1   \n",
       "417          3        0  Master   (14.454, 31.472]  (15.2, 30.4]        1   \n",
       "\n",
       "     Embarked_Code  Title_Code  AgeBin_Code  FareBin_Code  \n",
       "0                1           5            2             0  \n",
       "1                2           6            3             0  \n",
       "2                1           5            4             1  \n",
       "3                2           5            1             1  \n",
       "4                2           6            1             1  \n",
       "..             ...         ...          ...           ...  \n",
       "413              2           5            1             1  \n",
       "414              0           1            2             3  \n",
       "415              2           5            2             0  \n",
       "416              2           5            1             1  \n",
       "417              0           3            1             2  \n",
       "\n",
       "[418 rows x 21 columns]"
      ]
     },
     "execution_count": 22,
     "metadata": {},
     "output_type": "execute_result"
    }
   ],
   "source": [
    "data_test"
   ]
  },
  {
   "cell_type": "code",
   "execution_count": 23,
   "metadata": {
    "execution": {
     "iopub.execute_input": "2020-08-12T02:37:33.440625Z",
     "iopub.status.busy": "2020-08-12T02:37:33.439800Z",
     "iopub.status.idle": "2020-08-12T02:37:33.443224Z",
     "shell.execute_reply": "2020-08-12T02:37:33.443905Z"
    },
    "papermill": {
     "duration": 0.032177,
     "end_time": "2020-08-12T02:37:33.444082",
     "exception": false,
     "start_time": "2020-08-12T02:37:33.411905",
     "status": "completed"
    },
    "tags": []
   },
   "outputs": [
    {
     "name": "stdout",
     "output_type": "stream",
     "text": [
      "Original X Y:  ['Survived', 'Sex', 'Pclass', 'Embarked', 'Title', 'SibSp', 'Parch', 'Age', 'Fare', 'FamilySize', 'IsAlone'] \n",
      "\n",
      "Training X Y:  ['Sex_Code', 'Pclass', 'Embarked_Code', 'Title_Code', 'IsAlone', 'FamilySize', 'AgeBin_Code', 'FareBin_Code'] \n",
      "\n"
     ]
    }
   ],
   "source": [
    "#define y variable aka target/outcome\n",
    "Target = ['Survived']\n",
    "\n",
    "#define x variables for original features aka feature selection\n",
    "original_train_data = ['Sex','Pclass', 'Embarked', 'Title','SibSp', 'Parch', 'Age', 'Fare', 'FamilySize', 'IsAlone'] #pretty name/values for charts\n",
    "train_data = ['Sex_Code','Pclass', 'Embarked_Code', 'Title_Code','IsAlone', 'FamilySize', 'AgeBin_Code', 'FareBin_Code'] #coded for algorithm calculation\n",
    "original_dataset =  Target + original_train_data\n",
    "print('Original X Y: ', original_dataset, '\\n')\n",
    "print('Training X Y: ', train_data, '\\n')"
   ]
  },
  {
   "cell_type": "markdown",
   "execution_count": null,
   "metadata": {
    "papermill": {
     "duration": 0.022841,
     "end_time": "2020-08-12T02:37:33.486363",
     "exception": false,
     "start_time": "2020-08-12T02:37:33.463522",
     "status": "completed"
    },
    "tags": []
   },
   "source": [
    "#### Double check Cleaned Data"
   ]
  },
  {
   "cell_type": "code",
   "execution_count": 24,
   "metadata": {
    "execution": {
     "iopub.execute_input": "2020-08-12T02:37:33.550789Z",
     "iopub.status.busy": "2020-08-12T02:37:33.544806Z",
     "iopub.status.idle": "2020-08-12T02:37:33.584785Z",
     "shell.execute_reply": "2020-08-12T02:37:33.586931Z"
    },
    "papermill": {
     "duration": 0.076546,
     "end_time": "2020-08-12T02:37:33.587189",
     "exception": false,
     "start_time": "2020-08-12T02:37:33.510643",
     "status": "completed"
    },
    "tags": []
   },
   "outputs": [
    {
     "name": "stdout",
     "output_type": "stream",
     "text": [
      "Train columns with null values: \n",
      " Survived         0\n",
      "Pclass           0\n",
      "Name             0\n",
      "Sex              0\n",
      "Age              0\n",
      "SibSp            0\n",
      "Parch            0\n",
      "Fare             0\n",
      "Embarked         0\n",
      "FamilySize       0\n",
      "IsAlone          0\n",
      "Title            0\n",
      "FareBin          0\n",
      "AgeBin           0\n",
      "Sex_Code         0\n",
      "Embarked_Code    0\n",
      "Title_Code       0\n",
      "AgeBin_Code      0\n",
      "FareBin_Code     0\n",
      "dtype: int64\n",
      "----------\n",
      "<class 'pandas.core.frame.DataFrame'>\n",
      "RangeIndex: 891 entries, 0 to 890\n",
      "Data columns (total 19 columns):\n",
      " #   Column         Non-Null Count  Dtype   \n",
      "---  ------         --------------  -----   \n",
      " 0   Survived       891 non-null    int64   \n",
      " 1   Pclass         891 non-null    int64   \n",
      " 2   Name           891 non-null    object  \n",
      " 3   Sex            891 non-null    object  \n",
      " 4   Age            891 non-null    float64 \n",
      " 5   SibSp          891 non-null    int64   \n",
      " 6   Parch          891 non-null    int64   \n",
      " 7   Fare           891 non-null    float64 \n",
      " 8   Embarked       891 non-null    object  \n",
      " 9   FamilySize     891 non-null    int64   \n",
      " 10  IsAlone        891 non-null    int64   \n",
      " 11  Title          891 non-null    object  \n",
      " 12  FareBin        891 non-null    category\n",
      " 13  AgeBin         891 non-null    category\n",
      " 14  Sex_Code       891 non-null    int64   \n",
      " 15  Embarked_Code  891 non-null    int64   \n",
      " 16  Title_Code     891 non-null    int64   \n",
      " 17  AgeBin_Code    891 non-null    int64   \n",
      " 18  FareBin_Code   891 non-null    int64   \n",
      "dtypes: category(2), float64(2), int64(11), object(4)\n",
      "memory usage: 120.7+ KB\n",
      "None\n",
      "----------\n",
      "Test/Validation columns with null values: \n",
      " PassengerId        0\n",
      "Pclass             0\n",
      "Name               0\n",
      "Sex                0\n",
      "Age                0\n",
      "SibSp              0\n",
      "Parch              0\n",
      "Ticket             0\n",
      "Fare               0\n",
      "Cabin            327\n",
      "Embarked           0\n",
      "FamilySize         0\n",
      "IsAlone            0\n",
      "Title              0\n",
      "FareBin            0\n",
      "AgeBin             0\n",
      "Sex_Code           0\n",
      "Embarked_Code      0\n",
      "Title_Code         0\n",
      "AgeBin_Code        0\n",
      "FareBin_Code       0\n",
      "dtype: int64\n",
      "----------\n",
      "<class 'pandas.core.frame.DataFrame'>\n",
      "RangeIndex: 418 entries, 0 to 417\n",
      "Data columns (total 21 columns):\n",
      " #   Column         Non-Null Count  Dtype   \n",
      "---  ------         --------------  -----   \n",
      " 0   PassengerId    418 non-null    int64   \n",
      " 1   Pclass         418 non-null    int64   \n",
      " 2   Name           418 non-null    object  \n",
      " 3   Sex            418 non-null    object  \n",
      " 4   Age            418 non-null    float64 \n",
      " 5   SibSp          418 non-null    int64   \n",
      " 6   Parch          418 non-null    int64   \n",
      " 7   Ticket         418 non-null    object  \n",
      " 8   Fare           418 non-null    float64 \n",
      " 9   Cabin          91 non-null     object  \n",
      " 10  Embarked       418 non-null    object  \n",
      " 11  FamilySize     418 non-null    int64   \n",
      " 12  IsAlone        418 non-null    int64   \n",
      " 13  Title          418 non-null    object  \n",
      " 14  FareBin        418 non-null    category\n",
      " 15  AgeBin         418 non-null    category\n",
      " 16  Sex_Code       418 non-null    int64   \n",
      " 17  Embarked_Code  418 non-null    int64   \n",
      " 18  Title_Code     418 non-null    int64   \n",
      " 19  AgeBin_Code    418 non-null    int64   \n",
      " 20  FareBin_Code   418 non-null    int64   \n",
      "dtypes: category(2), float64(2), int64(11), object(6)\n",
      "memory usage: 63.4+ KB\n",
      "None\n",
      "----------\n"
     ]
    }
   ],
   "source": [
    "print('Train columns with null values: \\n', data_train.isnull().sum())\n",
    "print(\"-\"*10)\n",
    "print (data_train.info())\n",
    "print(\"-\"*10)\n",
    "\n",
    "print('Test/Validation columns with null values: \\n', data_test.isnull().sum())\n",
    "print(\"-\"*10)\n",
    "print (data_test.info())\n",
    "print(\"-\"*10)"
   ]
  },
  {
   "cell_type": "code",
   "execution_count": 25,
   "metadata": {
    "execution": {
     "iopub.execute_input": "2020-08-12T02:37:33.635022Z",
     "iopub.status.busy": "2020-08-12T02:37:33.633947Z",
     "iopub.status.idle": "2020-08-12T02:37:33.638280Z",
     "shell.execute_reply": "2020-08-12T02:37:33.637435Z"
    },
    "papermill": {
     "duration": 0.031074,
     "end_time": "2020-08-12T02:37:33.638423",
     "exception": false,
     "start_time": "2020-08-12T02:37:33.607349",
     "status": "completed"
    },
    "tags": []
   },
   "outputs": [],
   "source": [
    "X = data_train[train_data]"
   ]
  },
  {
   "cell_type": "code",
   "execution_count": 26,
   "metadata": {
    "execution": {
     "iopub.execute_input": "2020-08-12T02:37:33.686119Z",
     "iopub.status.busy": "2020-08-12T02:37:33.684665Z",
     "iopub.status.idle": "2020-08-12T02:37:33.688684Z",
     "shell.execute_reply": "2020-08-12T02:37:33.687919Z"
    },
    "papermill": {
     "duration": 0.030474,
     "end_time": "2020-08-12T02:37:33.688850",
     "exception": false,
     "start_time": "2020-08-12T02:37:33.658376",
     "status": "completed"
    },
    "tags": []
   },
   "outputs": [],
   "source": [
    "Y = data_train[Target]"
   ]
  },
  {
   "cell_type": "markdown",
   "execution_count": null,
   "metadata": {
    "papermill": {
     "duration": 0.019564,
     "end_time": "2020-08-12T02:37:33.728335",
     "exception": false,
     "start_time": "2020-08-12T02:37:33.708771",
     "status": "completed"
    },
    "tags": []
   },
   "source": [
    "## Split Training and Testing Data"
   ]
  },
  {
   "cell_type": "code",
   "execution_count": 27,
   "metadata": {
    "execution": {
     "iopub.execute_input": "2020-08-12T02:37:33.791730Z",
     "iopub.status.busy": "2020-08-12T02:37:33.790774Z",
     "iopub.status.idle": "2020-08-12T02:37:33.796367Z",
     "shell.execute_reply": "2020-08-12T02:37:33.796930Z"
    },
    "papermill": {
     "duration": 0.04888,
     "end_time": "2020-08-12T02:37:33.797105",
     "exception": false,
     "start_time": "2020-08-12T02:37:33.748225",
     "status": "completed"
    },
    "tags": []
   },
   "outputs": [
    {
     "name": "stdout",
     "output_type": "stream",
     "text": [
      "Data given for training - Shape: (891, 19)\n",
      "Train split of the given training data - Shape: (712, 8)\n",
      "Test split of the tgiven training data - Shape: (179, 8)\n"
     ]
    },
    {
     "data": {
      "text/html": [
       "<div>\n",
       "<style scoped>\n",
       "    .dataframe tbody tr th:only-of-type {\n",
       "        vertical-align: middle;\n",
       "    }\n",
       "\n",
       "    .dataframe tbody tr th {\n",
       "        vertical-align: top;\n",
       "    }\n",
       "\n",
       "    .dataframe thead th {\n",
       "        text-align: right;\n",
       "    }\n",
       "</style>\n",
       "<table border=\"1\" class=\"dataframe\">\n",
       "  <thead>\n",
       "    <tr style=\"text-align: right;\">\n",
       "      <th></th>\n",
       "      <th>Sex_Code</th>\n",
       "      <th>Pclass</th>\n",
       "      <th>Embarked_Code</th>\n",
       "      <th>Title_Code</th>\n",
       "      <th>IsAlone</th>\n",
       "      <th>FamilySize</th>\n",
       "      <th>AgeBin_Code</th>\n",
       "      <th>FareBin_Code</th>\n",
       "    </tr>\n",
       "  </thead>\n",
       "  <tbody>\n",
       "    <tr>\n",
       "      <th>140</th>\n",
       "      <td>0</td>\n",
       "      <td>3</td>\n",
       "      <td>0</td>\n",
       "      <td>4</td>\n",
       "      <td>0</td>\n",
       "      <td>3</td>\n",
       "      <td>1</td>\n",
       "      <td>2</td>\n",
       "    </tr>\n",
       "    <tr>\n",
       "      <th>439</th>\n",
       "      <td>1</td>\n",
       "      <td>2</td>\n",
       "      <td>2</td>\n",
       "      <td>3</td>\n",
       "      <td>1</td>\n",
       "      <td>1</td>\n",
       "      <td>1</td>\n",
       "      <td>1</td>\n",
       "    </tr>\n",
       "    <tr>\n",
       "      <th>817</th>\n",
       "      <td>1</td>\n",
       "      <td>2</td>\n",
       "      <td>0</td>\n",
       "      <td>3</td>\n",
       "      <td>0</td>\n",
       "      <td>3</td>\n",
       "      <td>1</td>\n",
       "      <td>3</td>\n",
       "    </tr>\n",
       "    <tr>\n",
       "      <th>378</th>\n",
       "      <td>1</td>\n",
       "      <td>3</td>\n",
       "      <td>0</td>\n",
       "      <td>3</td>\n",
       "      <td>1</td>\n",
       "      <td>1</td>\n",
       "      <td>1</td>\n",
       "      <td>0</td>\n",
       "    </tr>\n",
       "    <tr>\n",
       "      <th>491</th>\n",
       "      <td>1</td>\n",
       "      <td>3</td>\n",
       "      <td>2</td>\n",
       "      <td>3</td>\n",
       "      <td>1</td>\n",
       "      <td>1</td>\n",
       "      <td>1</td>\n",
       "      <td>0</td>\n",
       "    </tr>\n",
       "  </tbody>\n",
       "</table>\n",
       "</div>"
      ],
      "text/plain": [
       "     Sex_Code  Pclass  Embarked_Code  Title_Code  IsAlone  FamilySize  \\\n",
       "140         0       3              0           4        0           3   \n",
       "439         1       2              2           3        1           1   \n",
       "817         1       2              0           3        0           3   \n",
       "378         1       3              0           3        1           1   \n",
       "491         1       3              2           3        1           1   \n",
       "\n",
       "     AgeBin_Code  FareBin_Code  \n",
       "140            1             2  \n",
       "439            1             1  \n",
       "817            1             3  \n",
       "378            1             0  \n",
       "491            1             0  "
      ]
     },
     "execution_count": 27,
     "metadata": {},
     "output_type": "execute_result"
    }
   ],
   "source": [
    "#split train and test data with function defaults\n",
    "#random_state -> seed or control random number generator: https://www.quora.com/What-is-seed-in-random-number-generation\n",
    "x_train, x_test, y_train, y_test = model_selection.train_test_split(data_train[train_data], data_train[Target],test_size= 0.2, random_state = 0)\n",
    "\n",
    "print(\"Data given for training - Shape: {}\".format(data_train.shape))\n",
    "print(\"Train split of the given training data - Shape: {}\".format(x_train.shape))\n",
    "print(\"Test split of the tgiven training data - Shape: {}\".format(x_test.shape))\n",
    "\n",
    "original_refined_dataset = data_train[original_train_data]\n",
    "\n",
    "x_train.head()\n"
   ]
  },
  {
   "cell_type": "code",
   "execution_count": 28,
   "metadata": {
    "execution": {
     "iopub.execute_input": "2020-08-12T02:37:33.863971Z",
     "iopub.status.busy": "2020-08-12T02:37:33.862918Z",
     "iopub.status.idle": "2020-08-12T02:37:33.868517Z",
     "shell.execute_reply": "2020-08-12T02:37:33.867780Z"
    },
    "papermill": {
     "duration": 0.051319,
     "end_time": "2020-08-12T02:37:33.868644",
     "exception": false,
     "start_time": "2020-08-12T02:37:33.817325",
     "status": "completed"
    },
    "tags": []
   },
   "outputs": [
    {
     "data": {
      "text/html": [
       "<div>\n",
       "<style scoped>\n",
       "    .dataframe tbody tr th:only-of-type {\n",
       "        vertical-align: middle;\n",
       "    }\n",
       "\n",
       "    .dataframe tbody tr th {\n",
       "        vertical-align: top;\n",
       "    }\n",
       "\n",
       "    .dataframe thead th {\n",
       "        text-align: right;\n",
       "    }\n",
       "</style>\n",
       "<table border=\"1\" class=\"dataframe\">\n",
       "  <thead>\n",
       "    <tr style=\"text-align: right;\">\n",
       "      <th></th>\n",
       "      <th>Sex</th>\n",
       "      <th>Pclass</th>\n",
       "      <th>Embarked</th>\n",
       "      <th>Title</th>\n",
       "      <th>SibSp</th>\n",
       "      <th>Parch</th>\n",
       "      <th>Age</th>\n",
       "      <th>Fare</th>\n",
       "      <th>FamilySize</th>\n",
       "      <th>IsAlone</th>\n",
       "    </tr>\n",
       "  </thead>\n",
       "  <tbody>\n",
       "    <tr>\n",
       "      <th>0</th>\n",
       "      <td>male</td>\n",
       "      <td>3</td>\n",
       "      <td>S</td>\n",
       "      <td>Mr</td>\n",
       "      <td>1</td>\n",
       "      <td>0</td>\n",
       "      <td>22.0</td>\n",
       "      <td>7.2500</td>\n",
       "      <td>2</td>\n",
       "      <td>0</td>\n",
       "    </tr>\n",
       "    <tr>\n",
       "      <th>1</th>\n",
       "      <td>female</td>\n",
       "      <td>1</td>\n",
       "      <td>C</td>\n",
       "      <td>Mrs</td>\n",
       "      <td>1</td>\n",
       "      <td>0</td>\n",
       "      <td>38.0</td>\n",
       "      <td>71.2833</td>\n",
       "      <td>2</td>\n",
       "      <td>0</td>\n",
       "    </tr>\n",
       "    <tr>\n",
       "      <th>2</th>\n",
       "      <td>female</td>\n",
       "      <td>3</td>\n",
       "      <td>S</td>\n",
       "      <td>Miss</td>\n",
       "      <td>0</td>\n",
       "      <td>0</td>\n",
       "      <td>26.0</td>\n",
       "      <td>7.9250</td>\n",
       "      <td>1</td>\n",
       "      <td>1</td>\n",
       "    </tr>\n",
       "    <tr>\n",
       "      <th>3</th>\n",
       "      <td>female</td>\n",
       "      <td>1</td>\n",
       "      <td>S</td>\n",
       "      <td>Mrs</td>\n",
       "      <td>1</td>\n",
       "      <td>0</td>\n",
       "      <td>35.0</td>\n",
       "      <td>53.1000</td>\n",
       "      <td>2</td>\n",
       "      <td>0</td>\n",
       "    </tr>\n",
       "    <tr>\n",
       "      <th>4</th>\n",
       "      <td>male</td>\n",
       "      <td>3</td>\n",
       "      <td>S</td>\n",
       "      <td>Mr</td>\n",
       "      <td>0</td>\n",
       "      <td>0</td>\n",
       "      <td>35.0</td>\n",
       "      <td>8.0500</td>\n",
       "      <td>1</td>\n",
       "      <td>1</td>\n",
       "    </tr>\n",
       "    <tr>\n",
       "      <th>...</th>\n",
       "      <td>...</td>\n",
       "      <td>...</td>\n",
       "      <td>...</td>\n",
       "      <td>...</td>\n",
       "      <td>...</td>\n",
       "      <td>...</td>\n",
       "      <td>...</td>\n",
       "      <td>...</td>\n",
       "      <td>...</td>\n",
       "      <td>...</td>\n",
       "    </tr>\n",
       "    <tr>\n",
       "      <th>886</th>\n",
       "      <td>male</td>\n",
       "      <td>2</td>\n",
       "      <td>S</td>\n",
       "      <td>Misc</td>\n",
       "      <td>0</td>\n",
       "      <td>0</td>\n",
       "      <td>27.0</td>\n",
       "      <td>13.0000</td>\n",
       "      <td>1</td>\n",
       "      <td>1</td>\n",
       "    </tr>\n",
       "    <tr>\n",
       "      <th>887</th>\n",
       "      <td>female</td>\n",
       "      <td>1</td>\n",
       "      <td>S</td>\n",
       "      <td>Miss</td>\n",
       "      <td>0</td>\n",
       "      <td>0</td>\n",
       "      <td>19.0</td>\n",
       "      <td>30.0000</td>\n",
       "      <td>1</td>\n",
       "      <td>1</td>\n",
       "    </tr>\n",
       "    <tr>\n",
       "      <th>888</th>\n",
       "      <td>female</td>\n",
       "      <td>3</td>\n",
       "      <td>S</td>\n",
       "      <td>Miss</td>\n",
       "      <td>1</td>\n",
       "      <td>2</td>\n",
       "      <td>28.0</td>\n",
       "      <td>23.4500</td>\n",
       "      <td>4</td>\n",
       "      <td>0</td>\n",
       "    </tr>\n",
       "    <tr>\n",
       "      <th>889</th>\n",
       "      <td>male</td>\n",
       "      <td>1</td>\n",
       "      <td>C</td>\n",
       "      <td>Mr</td>\n",
       "      <td>0</td>\n",
       "      <td>0</td>\n",
       "      <td>26.0</td>\n",
       "      <td>30.0000</td>\n",
       "      <td>1</td>\n",
       "      <td>1</td>\n",
       "    </tr>\n",
       "    <tr>\n",
       "      <th>890</th>\n",
       "      <td>male</td>\n",
       "      <td>3</td>\n",
       "      <td>Q</td>\n",
       "      <td>Mr</td>\n",
       "      <td>0</td>\n",
       "      <td>0</td>\n",
       "      <td>32.0</td>\n",
       "      <td>7.7500</td>\n",
       "      <td>1</td>\n",
       "      <td>1</td>\n",
       "    </tr>\n",
       "  </tbody>\n",
       "</table>\n",
       "<p>891 rows × 10 columns</p>\n",
       "</div>"
      ],
      "text/plain": [
       "        Sex  Pclass Embarked Title  SibSp  Parch   Age     Fare  FamilySize  \\\n",
       "0      male       3        S    Mr      1      0  22.0   7.2500           2   \n",
       "1    female       1        C   Mrs      1      0  38.0  71.2833           2   \n",
       "2    female       3        S  Miss      0      0  26.0   7.9250           1   \n",
       "3    female       1        S   Mrs      1      0  35.0  53.1000           2   \n",
       "4      male       3        S    Mr      0      0  35.0   8.0500           1   \n",
       "..      ...     ...      ...   ...    ...    ...   ...      ...         ...   \n",
       "886    male       2        S  Misc      0      0  27.0  13.0000           1   \n",
       "887  female       1        S  Miss      0      0  19.0  30.0000           1   \n",
       "888  female       3        S  Miss      1      2  28.0  23.4500           4   \n",
       "889    male       1        C    Mr      0      0  26.0  30.0000           1   \n",
       "890    male       3        Q    Mr      0      0  32.0   7.7500           1   \n",
       "\n",
       "     IsAlone  \n",
       "0          0  \n",
       "1          0  \n",
       "2          1  \n",
       "3          0  \n",
       "4          1  \n",
       "..       ...  \n",
       "886        1  \n",
       "887        1  \n",
       "888        0  \n",
       "889        1  \n",
       "890        1  \n",
       "\n",
       "[891 rows x 10 columns]"
      ]
     },
     "execution_count": 28,
     "metadata": {},
     "output_type": "execute_result"
    }
   ],
   "source": [
    "original_refined_dataset"
   ]
  },
  {
   "cell_type": "markdown",
   "execution_count": null,
   "metadata": {
    "papermill": {
     "duration": 0.020127,
     "end_time": "2020-08-12T02:37:33.909325",
     "exception": false,
     "start_time": "2020-08-12T02:37:33.889198",
     "status": "completed"
    },
    "tags": []
   },
   "source": [
    "## Perform Exploratory Analysis with Statistics"
   ]
  },
  {
   "cell_type": "code",
   "execution_count": 29,
   "metadata": {
    "execution": {
     "iopub.execute_input": "2020-08-12T02:37:33.975758Z",
     "iopub.status.busy": "2020-08-12T02:37:33.966139Z",
     "iopub.status.idle": "2020-08-12T02:37:34.046807Z",
     "shell.execute_reply": "2020-08-12T02:37:34.045772Z"
    },
    "papermill": {
     "duration": 0.117015,
     "end_time": "2020-08-12T02:37:34.046956",
     "exception": false,
     "start_time": "2020-08-12T02:37:33.929941",
     "status": "completed"
    },
    "tags": []
   },
   "outputs": [
    {
     "name": "stdout",
     "output_type": "stream",
     "text": [
      "Survival Correlation by: Sex\n",
      "      Sex  Survived\n",
      "0  female  0.742038\n",
      "1    male  0.188908\n",
      "---------- \n",
      "\n",
      "Survival Correlation by: Pclass\n",
      "   Pclass  Survived\n",
      "0       1  0.629630\n",
      "1       2  0.472826\n",
      "2       3  0.242363\n",
      "---------- \n",
      "\n",
      "Survival Correlation by: Embarked\n",
      "  Embarked  Survived\n",
      "0        C  0.553571\n",
      "1        Q  0.389610\n",
      "2        S  0.339009\n",
      "---------- \n",
      "\n",
      "Survival Correlation by: Title\n",
      "    Title  Survived\n",
      "0  Master  0.575000\n",
      "1    Misc  0.444444\n",
      "2    Miss  0.697802\n",
      "3      Mr  0.156673\n",
      "4     Mrs  0.792000\n",
      "---------- \n",
      "\n",
      "Survival Correlation by: SibSp\n",
      "   SibSp  Survived\n",
      "0      0  0.345395\n",
      "1      1  0.535885\n",
      "2      2  0.464286\n",
      "3      3  0.250000\n",
      "4      4  0.166667\n",
      "5      5  0.000000\n",
      "6      8  0.000000\n",
      "---------- \n",
      "\n",
      "Survival Correlation by: Parch\n",
      "   Parch  Survived\n",
      "0      0  0.343658\n",
      "1      1  0.550847\n",
      "2      2  0.500000\n",
      "3      3  0.600000\n",
      "4      4  0.000000\n",
      "5      5  0.200000\n",
      "6      6  0.000000\n",
      "---------- \n",
      "\n",
      "Survival Correlation by: FamilySize\n",
      "   FamilySize  Survived\n",
      "0           1  0.303538\n",
      "1           2  0.552795\n",
      "2           3  0.578431\n",
      "3           4  0.724138\n",
      "4           5  0.200000\n",
      "5           6  0.136364\n",
      "6           7  0.333333\n",
      "7           8  0.000000\n",
      "8          11  0.000000\n",
      "---------- \n",
      "\n",
      "Survival Correlation by: IsAlone\n",
      "   IsAlone  Survived\n",
      "0        0  0.505650\n",
      "1        1  0.303538\n",
      "---------- \n",
      "\n",
      "Survived    0    1\n",
      "Title             \n",
      "Master     17   23\n",
      "Misc       15   12\n",
      "Miss       55  127\n",
      "Mr        436   81\n",
      "Mrs        26   99\n"
     ]
    }
   ],
   "source": [
    "#Discrete Variable Correlation by Survival using\n",
    "#group by aka pivot table\n",
    "for x in original_refined_dataset:\n",
    "    if data_train[x].dtype != 'float64' :\n",
    "        print('Survival Correlation by:', x)\n",
    "        print(data_train[[x, Target[0]]].groupby(x, as_index=False).mean())\n",
    "        print('-'*10, '\\n')\n",
    "        \n",
    "\n",
    "#using crosstabs\n",
    "print(pd.crosstab(data_train['Title'],data_train[Target[0]]))"
   ]
  },
  {
   "cell_type": "code",
   "execution_count": 30,
   "metadata": {
    "execution": {
     "iopub.execute_input": "2020-08-12T02:37:34.110869Z",
     "iopub.status.busy": "2020-08-12T02:37:34.109176Z",
     "iopub.status.idle": "2020-08-12T02:37:35.850870Z",
     "shell.execute_reply": "2020-08-12T02:37:35.851487Z"
    },
    "papermill": {
     "duration": 1.783356,
     "end_time": "2020-08-12T02:37:35.851663",
     "exception": false,
     "start_time": "2020-08-12T02:37:34.068307",
     "status": "completed"
    },
    "tags": []
   },
   "outputs": [
    {
     "data": {
      "text/plain": [
       "<matplotlib.legend.Legend at 0x7f8b125a2c90>"
      ]
     },
     "execution_count": 30,
     "metadata": {},
     "output_type": "execute_result"
    },
    {
     "data": {
      "image/png": "[encoded data removed]",
      "text/plain": [
       "<Figure size 1152x864 with 6 Axes>"
      ]
     },
     "metadata": {},
     "output_type": "display_data"
    }
   ],
   "source": [
    "\n",
    "plt.figure(figsize=[16,12])\n",
    "\n",
    "plt.subplot(231)\n",
    "plt.boxplot(x=data_train['Fare'], showmeans = True, meanline = True)\n",
    "plt.title('Fare Boxplot')\n",
    "plt.ylabel('Fare ($)')\n",
    "\n",
    "plt.subplot(232)\n",
    "plt.boxplot(data_train['Age'], showmeans = True, meanline = True)\n",
    "plt.title('Age Boxplot')\n",
    "plt.ylabel('Age (Years)')\n",
    "\n",
    "plt.subplot(233)\n",
    "plt.boxplot(data_train['FamilySize'], showmeans = True, meanline = True)\n",
    "plt.title('Family Size Boxplot')\n",
    "plt.ylabel('Family Size (#)')\n",
    "\n",
    "plt.subplot(234)\n",
    "plt.hist(x = [data_train[data_train['Survived']==1]['Fare'], data_train[data_train['Survived']==0]['Fare']], \n",
    "         stacked=True, color = ['g','r'],label = ['Survived','Dead'])\n",
    "plt.title('Fare Histogram by Survival')\n",
    "plt.xlabel('Fare ($)')\n",
    "plt.ylabel('# of Passengers')\n",
    "plt.legend()\n",
    "\n",
    "plt.subplot(235)\n",
    "plt.hist(x = [data_train[data_train['Survived']==1]['Age'], data_train[data_train['Survived']==0]['Age']], \n",
    "         stacked=True, color = ['g','r'],label = ['Survived','Dead'])\n",
    "plt.title('Age Histogram by Survival')\n",
    "plt.xlabel('Age (Years)')\n",
    "plt.ylabel('# of Passengers')\n",
    "plt.legend()\n",
    "\n",
    "plt.subplot(236)\n",
    "plt.hist(x = [data_train[data_train['Survived']==1]['FamilySize'], data_train[data_train['Survived']==0]['FamilySize']], \n",
    "         stacked=True, color = ['g','r'],label = ['Survived','Dead'])\n",
    "plt.title('Family Size Histogram by Survival')\n",
    "plt.xlabel('Family Size (#)')\n",
    "plt.ylabel('# of Passengers')\n",
    "plt.legend()"
   ]
  },
  {
   "cell_type": "code",
   "execution_count": 31,
   "metadata": {
    "execution": {
     "iopub.execute_input": "2020-08-12T02:37:35.913741Z",
     "iopub.status.busy": "2020-08-12T02:37:35.908988Z",
     "iopub.status.idle": "2020-08-12T02:37:37.913988Z",
     "shell.execute_reply": "2020-08-12T02:37:37.914581Z"
    },
    "papermill": {
     "duration": 2.041071,
     "end_time": "2020-08-12T02:37:37.914811",
     "exception": false,
     "start_time": "2020-08-12T02:37:35.873740",
     "status": "completed"
    },
    "tags": []
   },
   "outputs": [
    {
     "data": {
      "text/plain": [
       "<matplotlib.axes._subplots.AxesSubplot at 0x7f8b120b2750>"
      ]
     },
     "execution_count": 31,
     "metadata": {},
     "output_type": "execute_result"
    },
    {
     "data": {
      "image/png": "[encoded data removed]",
      "text/plain": [
       "<Figure size 1152x864 with 6 Axes>"
      ]
     },
     "metadata": {},
     "output_type": "display_data"
    }
   ],
   "source": [
    "#graph individual features by survival\n",
    "fig, saxis = plt.subplots(2, 3,figsize=(16,12))\n",
    "\n",
    "sns.barplot(x = 'Embarked', y = 'Survived', data=data_train, ax = saxis[0,0])\n",
    "sns.barplot(x = 'Pclass', y = 'Survived', order=[1,2,3], data=data_train, ax = saxis[0,1])\n",
    "sns.barplot(x = 'IsAlone', y = 'Survived', order=[1,0], data=data_train, ax = saxis[0,2])\n",
    "\n",
    "sns.pointplot(x = 'FareBin', y = 'Survived',  data=data_train, ax = saxis[1,0])\n",
    "sns.pointplot(x = 'AgeBin', y = 'Survived',  data=data_train, ax = saxis[1,1])\n",
    "sns.pointplot(x = 'FamilySize', y = 'Survived', data=data_train, ax = saxis[1,2])"
   ]
  },
  {
   "cell_type": "code",
   "execution_count": 32,
   "metadata": {
    "execution": {
     "iopub.execute_input": "2020-08-12T02:37:38.023846Z",
     "iopub.status.busy": "2020-08-12T02:37:38.022363Z",
     "iopub.status.idle": "2020-08-12T02:37:38.852490Z",
     "shell.execute_reply": "2020-08-12T02:37:38.851696Z"
    },
    "papermill": {
     "duration": 0.861754,
     "end_time": "2020-08-12T02:37:38.852625",
     "exception": false,
     "start_time": "2020-08-12T02:37:37.990871",
     "status": "completed"
    },
    "tags": []
   },
   "outputs": [
    {
     "data": {
      "text/plain": [
       "Text(0.5, 1.0, 'Pclass vs Family Size Survival Comparison')"
      ]
     },
     "execution_count": 32,
     "metadata": {},
     "output_type": "execute_result"
    },
    {
     "data": {
      "image/png": "[encoded data removed]",
      "text/plain": [
       "<Figure size 1008x864 with 3 Axes>"
      ]
     },
     "metadata": {},
     "output_type": "display_data"
    }
   ],
   "source": [
    "#graph distribution of qualitative data: Pclass\n",
    "#we know class mattered in survival, now let's compare class and a 2nd feature\n",
    "fig, (axis1,axis2,axis3) = plt.subplots(1,3,figsize=(14,12))\n",
    "\n",
    "sns.boxplot(x = 'Pclass', y = 'Fare', hue = 'Survived', data = data_train, ax = axis1)\n",
    "axis1.set_title('Pclass vs Fare Survival Comparison')\n",
    "\n",
    "sns.violinplot(x = 'Pclass', y = 'Age', hue = 'Survived', data = data_train, split = True, ax = axis2)\n",
    "axis2.set_title('Pclass vs Age Survival Comparison')\n",
    "\n",
    "sns.boxplot(x = 'Pclass', y ='FamilySize', hue = 'Survived', data = data_train, ax = axis3)\n",
    "axis3.set_title('Pclass vs Family Size Survival Comparison')"
   ]
  },
  {
   "cell_type": "code",
   "execution_count": 33,
   "metadata": {
    "execution": {
     "iopub.execute_input": "2020-08-12T02:37:38.919040Z",
     "iopub.status.busy": "2020-08-12T02:37:38.909646Z",
     "iopub.status.idle": "2020-08-12T02:37:40.079492Z",
     "shell.execute_reply": "2020-08-12T02:37:40.078699Z"
    },
    "papermill": {
     "duration": 1.202775,
     "end_time": "2020-08-12T02:37:40.079625",
     "exception": false,
     "start_time": "2020-08-12T02:37:38.876850",
     "status": "completed"
    },
    "tags": []
   },
   "outputs": [
    {
     "data": {
      "text/plain": [
       "Text(0.5, 1.0, 'Sex vs IsAlone Survival Comparison')"
      ]
     },
     "execution_count": 33,
     "metadata": {},
     "output_type": "execute_result"
    },
    {
     "data": {
      "image/png": "[encoded data removed]",
      "text/plain": [
       "<Figure size 1008x864 with 3 Axes>"
      ]
     },
     "metadata": {},
     "output_type": "display_data"
    }
   ],
   "source": [
    "#graph distribution of qualitative data: Sex\n",
    "#we know sex mattered in survival, now let's compare sex and a 2nd feature\n",
    "fig, qaxis = plt.subplots(1,3,figsize=(14,12))\n",
    "\n",
    "sns.barplot(x = 'Sex', y = 'Survived', hue = 'Embarked', data=data_train, ax = qaxis[0])\n",
    "axis1.set_title('Sex vs Embarked Survival Comparison')\n",
    "\n",
    "sns.barplot(x = 'Sex', y = 'Survived', hue = 'Pclass', data=data_train, ax  = qaxis[1])\n",
    "axis1.set_title('Sex vs Pclass Survival Comparison')\n",
    "\n",
    "sns.barplot(x = 'Sex', y = 'Survived', hue = 'IsAlone', data=data_train, ax  = qaxis[2])\n",
    "axis1.set_title('Sex vs IsAlone Survival Comparison')"
   ]
  },
  {
   "cell_type": "code",
   "execution_count": 34,
   "metadata": {
    "execution": {
     "iopub.execute_input": "2020-08-12T02:37:40.147518Z",
     "iopub.status.busy": "2020-08-12T02:37:40.145573Z",
     "iopub.status.idle": "2020-08-12T02:37:41.288288Z",
     "shell.execute_reply": "2020-08-12T02:37:41.288936Z"
    },
    "papermill": {
     "duration": 1.185119,
     "end_time": "2020-08-12T02:37:41.289118",
     "exception": false,
     "start_time": "2020-08-12T02:37:40.103999",
     "status": "completed"
    },
    "tags": []
   },
   "outputs": [
    {
     "data": {
      "image/png": "[encoded data removed]",
      "text/plain": [
       "<Figure size 1008x864 with 2 Axes>"
      ]
     },
     "metadata": {},
     "output_type": "display_data"
    }
   ],
   "source": [
    "#correlation heatmap of dataset\n",
    "def correlation_heatmap(df):\n",
    "    _ , ax = plt.subplots(figsize =(14, 12))\n",
    "    colormap = sns.diverging_palette(220, 10, as_cmap = True)\n",
    "    \n",
    "    _ = sns.heatmap(\n",
    "        df.corr(), \n",
    "        cmap = colormap,\n",
    "        square=True, \n",
    "        cbar_kws={'shrink':.9 }, \n",
    "        ax=ax,\n",
    "        annot=True, \n",
    "        linewidths=0.1,vmax=1.0, linecolor='white',\n",
    "        annot_kws={'fontsize':12 }\n",
    "    )\n",
    "    \n",
    "    plt.title('Correlation of Features', y=1.05, size=15)\n",
    "\n",
    "correlation_heatmap(data_train)"
   ]
  },
  {
   "cell_type": "markdown",
   "execution_count": null,
   "metadata": {
    "papermill": {
     "duration": 0.0259,
     "end_time": "2020-08-12T02:37:41.348586",
     "exception": false,
     "start_time": "2020-08-12T02:37:41.322686",
     "status": "completed"
    },
    "tags": []
   },
   "source": [
    "## Model Data"
   ]
  },
  {
   "cell_type": "code",
   "execution_count": 35,
   "metadata": {
    "execution": {
     "iopub.execute_input": "2020-08-12T02:37:41.408579Z",
     "iopub.status.busy": "2020-08-12T02:37:41.407432Z",
     "iopub.status.idle": "2020-08-12T02:37:41.411164Z",
     "shell.execute_reply": "2020-08-12T02:37:41.410510Z"
    },
    "papermill": {
     "duration": 0.037043,
     "end_time": "2020-08-12T02:37:41.411312",
     "exception": false,
     "start_time": "2020-08-12T02:37:41.374269",
     "status": "completed"
    },
    "tags": []
   },
   "outputs": [],
   "source": [
    "from sklearn.model_selection import GridSearchCV, StratifiedKFold, StratifiedShuffleSplit, cross_val_score\n",
    "# Importing the model. \n",
    "from sklearn.neighbors import KNeighborsClassifier\n",
    "from sklearn.naive_bayes import GaussianNB\n",
    "from sklearn.metrics import accuracy_score,classification_report, confusion_matrix\n",
    "from sklearn.svm import SVC\n",
    "from sklearn.tree import DecisionTreeClassifier"
   ]
  },
  {
   "cell_type": "markdown",
   "execution_count": null,
   "metadata": {
    "papermill": {
     "duration": 0.025323,
     "end_time": "2020-08-12T02:37:41.462407",
     "exception": false,
     "start_time": "2020-08-12T02:37:41.437084",
     "status": "completed"
    },
    "tags": []
   },
   "source": [
    "#### KNN Model"
   ]
  },
  {
   "cell_type": "code",
   "execution_count": 36,
   "metadata": {
    "execution": {
     "iopub.execute_input": "2020-08-12T02:37:41.521516Z",
     "iopub.status.busy": "2020-08-12T02:37:41.520451Z",
     "iopub.status.idle": "2020-08-12T02:37:41.523997Z",
     "shell.execute_reply": "2020-08-12T02:37:41.523343Z"
    },
    "papermill": {
     "duration": 0.035823,
     "end_time": "2020-08-12T02:37:41.524128",
     "exception": false,
     "start_time": "2020-08-12T02:37:41.488305",
     "status": "completed"
    },
    "tags": []
   },
   "outputs": [],
   "source": [
    "knn = KNeighborsClassifier(metric='minkowski', p=2) \n",
    "## doing 10 fold staratified-shuffle-split cross validation \n",
    "cv = StratifiedShuffleSplit(n_splits=10, test_size=.25, random_state=2)"
   ]
  },
  {
   "cell_type": "code",
   "execution_count": 37,
   "metadata": {
    "execution": {
     "iopub.execute_input": "2020-08-12T02:37:41.595022Z",
     "iopub.status.busy": "2020-08-12T02:37:41.592062Z",
     "iopub.status.idle": "2020-08-12T02:37:47.817537Z",
     "shell.execute_reply": "2020-08-12T02:37:47.816894Z"
    },
    "papermill": {
     "duration": 6.267893,
     "end_time": "2020-08-12T02:37:47.817663",
     "exception": false,
     "start_time": "2020-08-12T02:37:41.549770",
     "status": "completed"
    },
    "tags": []
   },
   "outputs": [
    {
     "name": "stdout",
     "output_type": "stream",
     "text": [
      "Accuracy scores are: [0.7320224719101124, 0.7634831460674156, 0.7786516853932584, 0.7898876404494383, 0.7932584269662922, 0.7853932584269663, 0.798876404494382, 0.7915730337078652, 0.8016853932584269, 0.7960674157303371, 0.798314606741573, 0.7938202247191011, 0.792696629213483, 0.7898876404494383, 0.7921348314606742, 0.7876404494382022, 0.7910112359550562, 0.7893258426966293, 0.7926966292134832, 0.7904494382022472, 0.7887640449438201, 0.7893258426966292, 0.7853932584269663, 0.7859550561797752, 0.7865168539325843, 0.7803370786516853, 0.7882022471910112, 0.7831460674157302, 0.7842696629213484, 0.7780898876404494]\n",
      "\n",
      "Mean accuracy score: 0.7866292134831462\n"
     ]
    },
    {
     "data": {
      "text/plain": [
       "[<matplotlib.lines.Line2D at 0x7f8b0bd3d790>]"
      ]
     },
     "execution_count": 37,
     "metadata": {},
     "output_type": "execute_result"
    },
    {
     "data": {
      "image/png": "[encoded data removed]",
      "text/plain": [
       "<Figure size 864x576 with 1 Axes>"
      ]
     },
     "metadata": {},
     "output_type": "display_data"
    }
   ],
   "source": [
    "## Search for an optimal value of k for KNN.\n",
    "k_range = range(1,31)\n",
    "k_scores = []\n",
    "for k in k_range:\n",
    "    knn = KNeighborsClassifier(n_neighbors=k)\n",
    "    scores = cross_val_score(knn, x_train , y_train , cv = cv, scoring = 'accuracy')\n",
    "    k_scores.append(scores.mean())\n",
    "print(\"Accuracy scores are: {}\\n\".format(k_scores))\n",
    "print (\"Mean accuracy score: {}\".format(np.mean(k_scores)))\n",
    "plt.plot(k_range, k_scores)"
   ]
  },
  {
   "cell_type": "code",
   "execution_count": 38,
   "metadata": {
    "execution": {
     "iopub.execute_input": "2020-08-12T02:37:47.883693Z",
     "iopub.status.busy": "2020-08-12T02:37:47.880133Z",
     "iopub.status.idle": "2020-08-12T02:37:47.897984Z",
     "shell.execute_reply": "2020-08-12T02:37:47.897069Z"
    },
    "papermill": {
     "duration": 0.053898,
     "end_time": "2020-08-12T02:37:47.898132",
     "exception": false,
     "start_time": "2020-08-12T02:37:47.844234",
     "status": "completed"
    },
    "tags": []
   },
   "outputs": [],
   "source": [
    "classifier = KNeighborsClassifier(n_neighbors=9)\n",
    "classifier.fit(x_train, y_train)\n",
    "y_pred = classifier.predict(x_test)"
   ]
  },
  {
   "cell_type": "code",
   "execution_count": 39,
   "metadata": {
    "execution": {
     "iopub.execute_input": "2020-08-12T02:37:47.960870Z",
     "iopub.status.busy": "2020-08-12T02:37:47.959640Z",
     "iopub.status.idle": "2020-08-12T02:37:47.969091Z",
     "shell.execute_reply": "2020-08-12T02:37:47.969729Z"
    },
    "papermill": {
     "duration": 0.045402,
     "end_time": "2020-08-12T02:37:47.969905",
     "exception": false,
     "start_time": "2020-08-12T02:37:47.924503",
     "status": "completed"
    },
    "tags": []
   },
   "outputs": [
    {
     "name": "stdout",
     "output_type": "stream",
     "text": [
      "[[94 16]\n",
      " [18 51]]\n",
      "              precision    recall  f1-score   support\n",
      "\n",
      "           0       0.84      0.85      0.85       110\n",
      "           1       0.76      0.74      0.75        69\n",
      "\n",
      "    accuracy                           0.81       179\n",
      "   macro avg       0.80      0.80      0.80       179\n",
      "weighted avg       0.81      0.81      0.81       179\n",
      "\n"
     ]
    }
   ],
   "source": [
    "print(confusion_matrix(y_test, y_pred))\n",
    "print(classification_report(y_test, y_pred))"
   ]
  },
  {
   "cell_type": "code",
   "execution_count": 40,
   "metadata": {
    "execution": {
     "iopub.execute_input": "2020-08-12T02:37:48.031773Z",
     "iopub.status.busy": "2020-08-12T02:37:48.030848Z",
     "iopub.status.idle": "2020-08-12T02:37:48.035962Z",
     "shell.execute_reply": "2020-08-12T02:37:48.035089Z"
    },
    "papermill": {
     "duration": 0.039343,
     "end_time": "2020-08-12T02:37:48.036135",
     "exception": false,
     "start_time": "2020-08-12T02:37:47.996792",
     "status": "completed"
    },
    "tags": []
   },
   "outputs": [
    {
     "name": "stdout",
     "output_type": "stream",
     "text": [
      "0.8100558659217877\n"
     ]
    }
   ],
   "source": [
    "knn_accy = accuracy_score(y_pred, y_test)\n",
    "print(knn_accy)"
   ]
  },
  {
   "cell_type": "markdown",
   "execution_count": null,
   "metadata": {
    "papermill": {
     "duration": 0.02641,
     "end_time": "2020-08-12T02:37:48.090497",
     "exception": false,
     "start_time": "2020-08-12T02:37:48.064087",
     "status": "completed"
    },
    "tags": []
   },
   "source": [
    "#### Gaussian Naive Bayes Model"
   ]
  },
  {
   "cell_type": "code",
   "execution_count": 41,
   "metadata": {
    "execution": {
     "iopub.execute_input": "2020-08-12T02:37:48.154909Z",
     "iopub.status.busy": "2020-08-12T02:37:48.154093Z",
     "iopub.status.idle": "2020-08-12T02:37:48.163466Z",
     "shell.execute_reply": "2020-08-12T02:37:48.162667Z"
    },
    "papermill": {
     "duration": 0.046331,
     "end_time": "2020-08-12T02:37:48.163608",
     "exception": false,
     "start_time": "2020-08-12T02:37:48.117277",
     "status": "completed"
    },
    "tags": []
   },
   "outputs": [
    {
     "name": "stdout",
     "output_type": "stream",
     "text": [
      "0.7988826815642458\n"
     ]
    }
   ],
   "source": [
    "# Gaussian Naive Bayes\n",
    "\n",
    "gaussian = GaussianNB()\n",
    "gaussian.fit(X,Y)\n",
    "\n",
    "y_pred = gaussian.predict(x_test)\n",
    "gaussian_accy = accuracy_score(y_pred, y_test)\n",
    "\n",
    "print(gaussian_accy)"
   ]
  },
  {
   "cell_type": "code",
   "execution_count": 42,
   "metadata": {
    "execution": {
     "iopub.execute_input": "2020-08-12T02:37:48.226867Z",
     "iopub.status.busy": "2020-08-12T02:37:48.225683Z",
     "iopub.status.idle": "2020-08-12T02:37:48.236322Z",
     "shell.execute_reply": "2020-08-12T02:37:48.236935Z"
    },
    "papermill": {
     "duration": 0.046406,
     "end_time": "2020-08-12T02:37:48.237108",
     "exception": false,
     "start_time": "2020-08-12T02:37:48.190702",
     "status": "completed"
    },
    "tags": []
   },
   "outputs": [
    {
     "name": "stdout",
     "output_type": "stream",
     "text": [
      "[[85 25]\n",
      " [11 58]]\n",
      "              precision    recall  f1-score   support\n",
      "\n",
      "           0       0.89      0.77      0.83       110\n",
      "           1       0.70      0.84      0.76        69\n",
      "\n",
      "    accuracy                           0.80       179\n",
      "   macro avg       0.79      0.81      0.79       179\n",
      "weighted avg       0.81      0.80      0.80       179\n",
      "\n"
     ]
    }
   ],
   "source": [
    "print(confusion_matrix(y_test, y_pred))\n",
    "print(classification_report(y_test, y_pred))"
   ]
  },
  {
   "cell_type": "markdown",
   "execution_count": null,
   "metadata": {
    "papermill": {
     "duration": 0.026307,
     "end_time": "2020-08-12T02:37:48.290177",
     "exception": false,
     "start_time": "2020-08-12T02:37:48.263870",
     "status": "completed"
    },
    "tags": []
   },
   "source": [
    "#### SVM Classifier Model"
   ]
  },
  {
   "cell_type": "code",
   "execution_count": 43,
   "metadata": {
    "execution": {
     "iopub.execute_input": "2020-08-12T02:37:48.353597Z",
     "iopub.status.busy": "2020-08-12T02:37:48.352800Z",
     "iopub.status.idle": "2020-08-12T02:37:48.380248Z",
     "shell.execute_reply": "2020-08-12T02:37:48.379588Z"
    },
    "papermill": {
     "duration": 0.063383,
     "end_time": "2020-08-12T02:37:48.380395",
     "exception": false,
     "start_time": "2020-08-12T02:37:48.317012",
     "status": "completed"
    },
    "tags": []
   },
   "outputs": [
    {
     "name": "stdout",
     "output_type": "stream",
     "text": [
      "0.8268156424581006\n"
     ]
    }
   ],
   "source": [
    "svclassifier = SVC(kernel='rbf')\n",
    "\n",
    "svclassifier.fit(x_train, y_train)\n",
    "y_pred = svclassifier.predict(x_test)\n",
    "\n",
    "svclassifier_accy = accuracy_score(y_pred, y_test)\n",
    "print(svclassifier_accy)"
   ]
  },
  {
   "cell_type": "code",
   "execution_count": 44,
   "metadata": {
    "execution": {
     "iopub.execute_input": "2020-08-12T02:37:48.444473Z",
     "iopub.status.busy": "2020-08-12T02:37:48.443300Z",
     "iopub.status.idle": "2020-08-12T02:37:48.454900Z",
     "shell.execute_reply": "2020-08-12T02:37:48.454045Z"
    },
    "papermill": {
     "duration": 0.046189,
     "end_time": "2020-08-12T02:37:48.455044",
     "exception": false,
     "start_time": "2020-08-12T02:37:48.408855",
     "status": "completed"
    },
    "tags": []
   },
   "outputs": [
    {
     "name": "stdout",
     "output_type": "stream",
     "text": [
      "[[96 14]\n",
      " [17 52]]\n",
      "              precision    recall  f1-score   support\n",
      "\n",
      "           0       0.85      0.87      0.86       110\n",
      "           1       0.79      0.75      0.77        69\n",
      "\n",
      "    accuracy                           0.83       179\n",
      "   macro avg       0.82      0.81      0.82       179\n",
      "weighted avg       0.83      0.83      0.83       179\n",
      "\n"
     ]
    }
   ],
   "source": [
    "print(confusion_matrix(y_test, y_pred))\n",
    "print(classification_report(y_test, y_pred))"
   ]
  },
  {
   "cell_type": "markdown",
   "execution_count": null,
   "metadata": {
    "papermill": {
     "duration": 0.026857,
     "end_time": "2020-08-12T02:37:48.509191",
     "exception": false,
     "start_time": "2020-08-12T02:37:48.482334",
     "status": "completed"
    },
    "tags": []
   },
   "source": [
    "#### Decision Tree Model"
   ]
  },
  {
   "cell_type": "code",
   "execution_count": 45,
   "metadata": {
    "execution": {
     "iopub.execute_input": "2020-08-12T02:37:48.575509Z",
     "iopub.status.busy": "2020-08-12T02:37:48.573866Z",
     "iopub.status.idle": "2020-08-12T02:37:48.584435Z",
     "shell.execute_reply": "2020-08-12T02:37:48.583660Z"
    },
    "papermill": {
     "duration": 0.04825,
     "end_time": "2020-08-12T02:37:48.584572",
     "exception": false,
     "start_time": "2020-08-12T02:37:48.536322",
     "status": "completed"
    },
    "tags": []
   },
   "outputs": [
    {
     "name": "stdout",
     "output_type": "stream",
     "text": [
      "0.8324022346368715\n"
     ]
    }
   ],
   "source": [
    "decision_tree_classifier =DecisionTreeClassifier()\n",
    "\n",
    "decision_tree_classifier.fit(x_train, y_train)\n",
    "y_pred = decision_tree_classifier.predict(x_test)\n",
    "\n",
    "decision_tree_classifier_accy = accuracy_score(y_pred, y_test)\n",
    "print(decision_tree_classifier_accy)"
   ]
  },
  {
   "cell_type": "code",
   "execution_count": 46,
   "metadata": {
    "execution": {
     "iopub.execute_input": "2020-08-12T02:37:48.650202Z",
     "iopub.status.busy": "2020-08-12T02:37:48.648958Z",
     "iopub.status.idle": "2020-08-12T02:37:48.660558Z",
     "shell.execute_reply": "2020-08-12T02:37:48.659898Z"
    },
    "papermill": {
     "duration": 0.048559,
     "end_time": "2020-08-12T02:37:48.660702",
     "exception": false,
     "start_time": "2020-08-12T02:37:48.612143",
     "status": "completed"
    },
    "tags": []
   },
   "outputs": [
    {
     "name": "stdout",
     "output_type": "stream",
     "text": [
      "[[101   9]\n",
      " [ 21  48]]\n",
      "              precision    recall  f1-score   support\n",
      "\n",
      "           0       0.83      0.92      0.87       110\n",
      "           1       0.84      0.70      0.76        69\n",
      "\n",
      "    accuracy                           0.83       179\n",
      "   macro avg       0.83      0.81      0.82       179\n",
      "weighted avg       0.83      0.83      0.83       179\n",
      "\n"
     ]
    }
   ],
   "source": [
    "print(confusion_matrix(y_test, y_pred))\n",
    "print(classification_report(y_test, y_pred))"
   ]
  },
  {
   "cell_type": "markdown",
   "execution_count": null,
   "metadata": {
    "papermill": {
     "duration": 0.027968,
     "end_time": "2020-08-12T02:37:48.716305",
     "exception": false,
     "start_time": "2020-08-12T02:37:48.688337",
     "status": "completed"
    },
    "tags": []
   },
   "source": [
    "**The maximum accuracy that was obtained is 83.8% of Decision Tree model. This model will be used to predict the values of the validation test data.**"
   ]
  },
  {
   "cell_type": "code",
   "execution_count": 47,
   "metadata": {
    "execution": {
     "iopub.execute_input": "2020-08-12T02:37:48.778001Z",
     "iopub.status.busy": "2020-08-12T02:37:48.777152Z",
     "iopub.status.idle": "2020-08-12T02:37:48.780442Z",
     "shell.execute_reply": "2020-08-12T02:37:48.779641Z"
    },
    "papermill": {
     "duration": 0.036539,
     "end_time": "2020-08-12T02:37:48.780590",
     "exception": false,
     "start_time": "2020-08-12T02:37:48.744051",
     "status": "completed"
    },
    "tags": []
   },
   "outputs": [],
   "source": [
    "validation_data = data_test"
   ]
  },
  {
   "cell_type": "code",
   "execution_count": 48,
   "metadata": {
    "execution": {
     "iopub.execute_input": "2020-08-12T02:37:48.847987Z",
     "iopub.status.busy": "2020-08-12T02:37:48.847063Z",
     "iopub.status.idle": "2020-08-12T02:37:48.906289Z",
     "shell.execute_reply": "2020-08-12T02:37:48.906880Z"
    },
    "papermill": {
     "duration": 0.098836,
     "end_time": "2020-08-12T02:37:48.907064",
     "exception": false,
     "start_time": "2020-08-12T02:37:48.808228",
     "status": "completed"
    },
    "tags": []
   },
   "outputs": [
    {
     "data": {
      "text/html": [
       "<div>\n",
       "<style scoped>\n",
       "    .dataframe tbody tr th:only-of-type {\n",
       "        vertical-align: middle;\n",
       "    }\n",
       "\n",
       "    .dataframe tbody tr th {\n",
       "        vertical-align: top;\n",
       "    }\n",
       "\n",
       "    .dataframe thead th {\n",
       "        text-align: right;\n",
       "    }\n",
       "</style>\n",
       "<table border=\"1\" class=\"dataframe\">\n",
       "  <thead>\n",
       "    <tr style=\"text-align: right;\">\n",
       "      <th></th>\n",
       "      <th>PassengerId</th>\n",
       "      <th>Pclass</th>\n",
       "      <th>Name</th>\n",
       "      <th>Sex</th>\n",
       "      <th>Age</th>\n",
       "      <th>SibSp</th>\n",
       "      <th>Parch</th>\n",
       "      <th>Ticket</th>\n",
       "      <th>Fare</th>\n",
       "      <th>Cabin</th>\n",
       "      <th>...</th>\n",
       "      <th>FamilySize</th>\n",
       "      <th>IsAlone</th>\n",
       "      <th>Title</th>\n",
       "      <th>FareBin</th>\n",
       "      <th>AgeBin</th>\n",
       "      <th>Sex_Code</th>\n",
       "      <th>Embarked_Code</th>\n",
       "      <th>Title_Code</th>\n",
       "      <th>AgeBin_Code</th>\n",
       "      <th>FareBin_Code</th>\n",
       "    </tr>\n",
       "  </thead>\n",
       "  <tbody>\n",
       "    <tr>\n",
       "      <th>0</th>\n",
       "      <td>892</td>\n",
       "      <td>3</td>\n",
       "      <td>Kelly, Mr. James</td>\n",
       "      <td>male</td>\n",
       "      <td>34.5</td>\n",
       "      <td>0</td>\n",
       "      <td>0</td>\n",
       "      <td>330911</td>\n",
       "      <td>7.8292</td>\n",
       "      <td>NaN</td>\n",
       "      <td>...</td>\n",
       "      <td>1</td>\n",
       "      <td>1</td>\n",
       "      <td>Mr</td>\n",
       "      <td>(-0.001, 7.896]</td>\n",
       "      <td>(30.4, 45.6]</td>\n",
       "      <td>1</td>\n",
       "      <td>1</td>\n",
       "      <td>5</td>\n",
       "      <td>2</td>\n",
       "      <td>0</td>\n",
       "    </tr>\n",
       "    <tr>\n",
       "      <th>1</th>\n",
       "      <td>893</td>\n",
       "      <td>3</td>\n",
       "      <td>Wilkes, Mrs. James (Ellen Needs)</td>\n",
       "      <td>female</td>\n",
       "      <td>47.0</td>\n",
       "      <td>1</td>\n",
       "      <td>0</td>\n",
       "      <td>363272</td>\n",
       "      <td>7.0000</td>\n",
       "      <td>NaN</td>\n",
       "      <td>...</td>\n",
       "      <td>2</td>\n",
       "      <td>0</td>\n",
       "      <td>Mrs</td>\n",
       "      <td>(-0.001, 7.896]</td>\n",
       "      <td>(45.6, 60.8]</td>\n",
       "      <td>0</td>\n",
       "      <td>2</td>\n",
       "      <td>6</td>\n",
       "      <td>3</td>\n",
       "      <td>0</td>\n",
       "    </tr>\n",
       "    <tr>\n",
       "      <th>2</th>\n",
       "      <td>894</td>\n",
       "      <td>2</td>\n",
       "      <td>Myles, Mr. Thomas Francis</td>\n",
       "      <td>male</td>\n",
       "      <td>62.0</td>\n",
       "      <td>0</td>\n",
       "      <td>0</td>\n",
       "      <td>240276</td>\n",
       "      <td>9.6875</td>\n",
       "      <td>NaN</td>\n",
       "      <td>...</td>\n",
       "      <td>1</td>\n",
       "      <td>1</td>\n",
       "      <td>Mr</td>\n",
       "      <td>(7.896, 14.454]</td>\n",
       "      <td>(60.8, 76.0]</td>\n",
       "      <td>1</td>\n",
       "      <td>1</td>\n",
       "      <td>5</td>\n",
       "      <td>4</td>\n",
       "      <td>1</td>\n",
       "    </tr>\n",
       "    <tr>\n",
       "      <th>3</th>\n",
       "      <td>895</td>\n",
       "      <td>3</td>\n",
       "      <td>Wirz, Mr. Albert</td>\n",
       "      <td>male</td>\n",
       "      <td>27.0</td>\n",
       "      <td>0</td>\n",
       "      <td>0</td>\n",
       "      <td>315154</td>\n",
       "      <td>8.6625</td>\n",
       "      <td>NaN</td>\n",
       "      <td>...</td>\n",
       "      <td>1</td>\n",
       "      <td>1</td>\n",
       "      <td>Mr</td>\n",
       "      <td>(7.896, 14.454]</td>\n",
       "      <td>(15.2, 30.4]</td>\n",
       "      <td>1</td>\n",
       "      <td>2</td>\n",
       "      <td>5</td>\n",
       "      <td>1</td>\n",
       "      <td>1</td>\n",
       "    </tr>\n",
       "    <tr>\n",
       "      <th>4</th>\n",
       "      <td>896</td>\n",
       "      <td>3</td>\n",
       "      <td>Hirvonen, Mrs. Alexander (Helga E Lindqvist)</td>\n",
       "      <td>female</td>\n",
       "      <td>22.0</td>\n",
       "      <td>1</td>\n",
       "      <td>1</td>\n",
       "      <td>3101298</td>\n",
       "      <td>12.2875</td>\n",
       "      <td>NaN</td>\n",
       "      <td>...</td>\n",
       "      <td>3</td>\n",
       "      <td>0</td>\n",
       "      <td>Mrs</td>\n",
       "      <td>(7.896, 14.454]</td>\n",
       "      <td>(15.2, 30.4]</td>\n",
       "      <td>0</td>\n",
       "      <td>2</td>\n",
       "      <td>6</td>\n",
       "      <td>1</td>\n",
       "      <td>1</td>\n",
       "    </tr>\n",
       "    <tr>\n",
       "      <th>...</th>\n",
       "      <td>...</td>\n",
       "      <td>...</td>\n",
       "      <td>...</td>\n",
       "      <td>...</td>\n",
       "      <td>...</td>\n",
       "      <td>...</td>\n",
       "      <td>...</td>\n",
       "      <td>...</td>\n",
       "      <td>...</td>\n",
       "      <td>...</td>\n",
       "      <td>...</td>\n",
       "      <td>...</td>\n",
       "      <td>...</td>\n",
       "      <td>...</td>\n",
       "      <td>...</td>\n",
       "      <td>...</td>\n",
       "      <td>...</td>\n",
       "      <td>...</td>\n",
       "      <td>...</td>\n",
       "      <td>...</td>\n",
       "      <td>...</td>\n",
       "    </tr>\n",
       "    <tr>\n",
       "      <th>413</th>\n",
       "      <td>1305</td>\n",
       "      <td>3</td>\n",
       "      <td>Spector, Mr. Woolf</td>\n",
       "      <td>male</td>\n",
       "      <td>27.0</td>\n",
       "      <td>0</td>\n",
       "      <td>0</td>\n",
       "      <td>A.5. 3236</td>\n",
       "      <td>8.0500</td>\n",
       "      <td>NaN</td>\n",
       "      <td>...</td>\n",
       "      <td>1</td>\n",
       "      <td>1</td>\n",
       "      <td>Mr</td>\n",
       "      <td>(7.896, 14.454]</td>\n",
       "      <td>(15.2, 30.4]</td>\n",
       "      <td>1</td>\n",
       "      <td>2</td>\n",
       "      <td>5</td>\n",
       "      <td>1</td>\n",
       "      <td>1</td>\n",
       "    </tr>\n",
       "    <tr>\n",
       "      <th>414</th>\n",
       "      <td>1306</td>\n",
       "      <td>1</td>\n",
       "      <td>Oliva y Ocana, Dona. Fermina</td>\n",
       "      <td>female</td>\n",
       "      <td>39.0</td>\n",
       "      <td>0</td>\n",
       "      <td>0</td>\n",
       "      <td>PC 17758</td>\n",
       "      <td>108.9000</td>\n",
       "      <td>C105</td>\n",
       "      <td>...</td>\n",
       "      <td>1</td>\n",
       "      <td>1</td>\n",
       "      <td>Dona</td>\n",
       "      <td>(31.472, 512.329]</td>\n",
       "      <td>(30.4, 45.6]</td>\n",
       "      <td>0</td>\n",
       "      <td>0</td>\n",
       "      <td>1</td>\n",
       "      <td>2</td>\n",
       "      <td>3</td>\n",
       "    </tr>\n",
       "    <tr>\n",
       "      <th>415</th>\n",
       "      <td>1307</td>\n",
       "      <td>3</td>\n",
       "      <td>Saether, Mr. Simon Sivertsen</td>\n",
       "      <td>male</td>\n",
       "      <td>38.5</td>\n",
       "      <td>0</td>\n",
       "      <td>0</td>\n",
       "      <td>SOTON/O.Q. 3101262</td>\n",
       "      <td>7.2500</td>\n",
       "      <td>NaN</td>\n",
       "      <td>...</td>\n",
       "      <td>1</td>\n",
       "      <td>1</td>\n",
       "      <td>Mr</td>\n",
       "      <td>(-0.001, 7.896]</td>\n",
       "      <td>(30.4, 45.6]</td>\n",
       "      <td>1</td>\n",
       "      <td>2</td>\n",
       "      <td>5</td>\n",
       "      <td>2</td>\n",
       "      <td>0</td>\n",
       "    </tr>\n",
       "    <tr>\n",
       "      <th>416</th>\n",
       "      <td>1308</td>\n",
       "      <td>3</td>\n",
       "      <td>Ware, Mr. Frederick</td>\n",
       "      <td>male</td>\n",
       "      <td>27.0</td>\n",
       "      <td>0</td>\n",
       "      <td>0</td>\n",
       "      <td>359309</td>\n",
       "      <td>8.0500</td>\n",
       "      <td>NaN</td>\n",
       "      <td>...</td>\n",
       "      <td>1</td>\n",
       "      <td>1</td>\n",
       "      <td>Mr</td>\n",
       "      <td>(7.896, 14.454]</td>\n",
       "      <td>(15.2, 30.4]</td>\n",
       "      <td>1</td>\n",
       "      <td>2</td>\n",
       "      <td>5</td>\n",
       "      <td>1</td>\n",
       "      <td>1</td>\n",
       "    </tr>\n",
       "    <tr>\n",
       "      <th>417</th>\n",
       "      <td>1309</td>\n",
       "      <td>3</td>\n",
       "      <td>Peter, Master. Michael J</td>\n",
       "      <td>male</td>\n",
       "      <td>27.0</td>\n",
       "      <td>1</td>\n",
       "      <td>1</td>\n",
       "      <td>2668</td>\n",
       "      <td>22.3583</td>\n",
       "      <td>NaN</td>\n",
       "      <td>...</td>\n",
       "      <td>3</td>\n",
       "      <td>0</td>\n",
       "      <td>Master</td>\n",
       "      <td>(14.454, 31.472]</td>\n",
       "      <td>(15.2, 30.4]</td>\n",
       "      <td>1</td>\n",
       "      <td>0</td>\n",
       "      <td>3</td>\n",
       "      <td>1</td>\n",
       "      <td>2</td>\n",
       "    </tr>\n",
       "  </tbody>\n",
       "</table>\n",
       "<p>418 rows × 21 columns</p>\n",
       "</div>"
      ],
      "text/plain": [
       "     PassengerId  Pclass                                          Name  \\\n",
       "0            892       3                              Kelly, Mr. James   \n",
       "1            893       3              Wilkes, Mrs. James (Ellen Needs)   \n",
       "2            894       2                     Myles, Mr. Thomas Francis   \n",
       "3            895       3                              Wirz, Mr. Albert   \n",
       "4            896       3  Hirvonen, Mrs. Alexander (Helga E Lindqvist)   \n",
       "..           ...     ...                                           ...   \n",
       "413         1305       3                            Spector, Mr. Woolf   \n",
       "414         1306       1                  Oliva y Ocana, Dona. Fermina   \n",
       "415         1307       3                  Saether, Mr. Simon Sivertsen   \n",
       "416         1308       3                           Ware, Mr. Frederick   \n",
       "417         1309       3                      Peter, Master. Michael J   \n",
       "\n",
       "        Sex   Age  SibSp  Parch              Ticket      Fare Cabin  ...  \\\n",
       "0      male  34.5      0      0              330911    7.8292   NaN  ...   \n",
       "1    female  47.0      1      0              363272    7.0000   NaN  ...   \n",
       "2      male  62.0      0      0              240276    9.6875   NaN  ...   \n",
       "3      male  27.0      0      0              315154    8.6625   NaN  ...   \n",
       "4    female  22.0      1      1             3101298   12.2875   NaN  ...   \n",
       "..      ...   ...    ...    ...                 ...       ...   ...  ...   \n",
       "413    male  27.0      0      0           A.5. 3236    8.0500   NaN  ...   \n",
       "414  female  39.0      0      0            PC 17758  108.9000  C105  ...   \n",
       "415    male  38.5      0      0  SOTON/O.Q. 3101262    7.2500   NaN  ...   \n",
       "416    male  27.0      0      0              359309    8.0500   NaN  ...   \n",
       "417    male  27.0      1      1                2668   22.3583   NaN  ...   \n",
       "\n",
       "    FamilySize  IsAlone   Title            FareBin        AgeBin Sex_Code  \\\n",
       "0            1        1      Mr    (-0.001, 7.896]  (30.4, 45.6]        1   \n",
       "1            2        0     Mrs    (-0.001, 7.896]  (45.6, 60.8]        0   \n",
       "2            1        1      Mr    (7.896, 14.454]  (60.8, 76.0]        1   \n",
       "3            1        1      Mr    (7.896, 14.454]  (15.2, 30.4]        1   \n",
       "4            3        0     Mrs    (7.896, 14.454]  (15.2, 30.4]        0   \n",
       "..         ...      ...     ...                ...           ...      ...   \n",
       "413          1        1      Mr    (7.896, 14.454]  (15.2, 30.4]        1   \n",
       "414          1        1    Dona  (31.472, 512.329]  (30.4, 45.6]        0   \n",
       "415          1        1      Mr    (-0.001, 7.896]  (30.4, 45.6]        1   \n",
       "416          1        1      Mr    (7.896, 14.454]  (15.2, 30.4]        1   \n",
       "417          3        0  Master   (14.454, 31.472]  (15.2, 30.4]        1   \n",
       "\n",
       "     Embarked_Code  Title_Code  AgeBin_Code  FareBin_Code  \n",
       "0                1           5            2             0  \n",
       "1                2           6            3             0  \n",
       "2                1           5            4             1  \n",
       "3                2           5            1             1  \n",
       "4                2           6            1             1  \n",
       "..             ...         ...          ...           ...  \n",
       "413              2           5            1             1  \n",
       "414              0           1            2             3  \n",
       "415              2           5            2             0  \n",
       "416              2           5            1             1  \n",
       "417              0           3            1             2  \n",
       "\n",
       "[418 rows x 21 columns]"
      ]
     },
     "execution_count": 48,
     "metadata": {},
     "output_type": "execute_result"
    }
   ],
   "source": [
    "validation_data"
   ]
  },
  {
   "cell_type": "code",
   "execution_count": 49,
   "metadata": {
    "execution": {
     "iopub.execute_input": "2020-08-12T02:37:48.975415Z",
     "iopub.status.busy": "2020-08-12T02:37:48.974536Z",
     "iopub.status.idle": "2020-08-12T02:37:48.979013Z",
     "shell.execute_reply": "2020-08-12T02:37:48.978324Z"
    },
    "papermill": {
     "duration": 0.043569,
     "end_time": "2020-08-12T02:37:48.979155",
     "exception": false,
     "start_time": "2020-08-12T02:37:48.935586",
     "status": "completed"
    },
    "tags": []
   },
   "outputs": [],
   "source": [
    "X_val = validation_data[train_data]\n",
    "val_prediction = decision_tree_classifier.predict(X_val)\n",
    "passengerid = validation_data[\"PassengerId\"]"
   ]
  },
  {
   "cell_type": "code",
   "execution_count": 50,
   "metadata": {
    "execution": {
     "iopub.execute_input": "2020-08-12T02:37:49.045046Z",
     "iopub.status.busy": "2020-08-12T02:37:49.044042Z",
     "iopub.status.idle": "2020-08-12T02:37:49.047469Z",
     "shell.execute_reply": "2020-08-12T02:37:49.046629Z"
    },
    "papermill": {
     "duration": 0.039934,
     "end_time": "2020-08-12T02:37:49.047611",
     "exception": false,
     "start_time": "2020-08-12T02:37:49.007677",
     "status": "completed"
    },
    "tags": []
   },
   "outputs": [],
   "source": [
    "submission = pd.DataFrame({\n",
    "        \"PassengerId\": passengerid,\n",
    "        \"Survived\": val_prediction\n",
    "    })"
   ]
  },
  {
   "cell_type": "code",
   "execution_count": 51,
   "metadata": {
    "execution": {
     "iopub.execute_input": "2020-08-12T02:37:49.117906Z",
     "iopub.status.busy": "2020-08-12T02:37:49.116766Z",
     "iopub.status.idle": "2020-08-12T02:37:49.122269Z",
     "shell.execute_reply": "2020-08-12T02:37:49.121503Z"
    },
    "papermill": {
     "duration": 0.046226,
     "end_time": "2020-08-12T02:37:49.122413",
     "exception": false,
     "start_time": "2020-08-12T02:37:49.076187",
     "status": "completed"
    },
    "tags": []
   },
   "outputs": [
    {
     "data": {
      "text/html": [
       "<div>\n",
       "<style scoped>\n",
       "    .dataframe tbody tr th:only-of-type {\n",
       "        vertical-align: middle;\n",
       "    }\n",
       "\n",
       "    .dataframe tbody tr th {\n",
       "        vertical-align: top;\n",
       "    }\n",
       "\n",
       "    .dataframe thead th {\n",
       "        text-align: right;\n",
       "    }\n",
       "</style>\n",
       "<table border=\"1\" class=\"dataframe\">\n",
       "  <thead>\n",
       "    <tr style=\"text-align: right;\">\n",
       "      <th></th>\n",
       "      <th>PassengerId</th>\n",
       "      <th>Survived</th>\n",
       "    </tr>\n",
       "  </thead>\n",
       "  <tbody>\n",
       "    <tr>\n",
       "      <th>0</th>\n",
       "      <td>892</td>\n",
       "      <td>0</td>\n",
       "    </tr>\n",
       "    <tr>\n",
       "      <th>1</th>\n",
       "      <td>893</td>\n",
       "      <td>0</td>\n",
       "    </tr>\n",
       "    <tr>\n",
       "      <th>2</th>\n",
       "      <td>894</td>\n",
       "      <td>0</td>\n",
       "    </tr>\n",
       "    <tr>\n",
       "      <th>3</th>\n",
       "      <td>895</td>\n",
       "      <td>0</td>\n",
       "    </tr>\n",
       "    <tr>\n",
       "      <th>4</th>\n",
       "      <td>896</td>\n",
       "      <td>0</td>\n",
       "    </tr>\n",
       "    <tr>\n",
       "      <th>...</th>\n",
       "      <td>...</td>\n",
       "      <td>...</td>\n",
       "    </tr>\n",
       "    <tr>\n",
       "      <th>413</th>\n",
       "      <td>1305</td>\n",
       "      <td>0</td>\n",
       "    </tr>\n",
       "    <tr>\n",
       "      <th>414</th>\n",
       "      <td>1306</td>\n",
       "      <td>1</td>\n",
       "    </tr>\n",
       "    <tr>\n",
       "      <th>415</th>\n",
       "      <td>1307</td>\n",
       "      <td>0</td>\n",
       "    </tr>\n",
       "    <tr>\n",
       "      <th>416</th>\n",
       "      <td>1308</td>\n",
       "      <td>0</td>\n",
       "    </tr>\n",
       "    <tr>\n",
       "      <th>417</th>\n",
       "      <td>1309</td>\n",
       "      <td>0</td>\n",
       "    </tr>\n",
       "  </tbody>\n",
       "</table>\n",
       "<p>418 rows × 2 columns</p>\n",
       "</div>"
      ],
      "text/plain": [
       "     PassengerId  Survived\n",
       "0            892         0\n",
       "1            893         0\n",
       "2            894         0\n",
       "3            895         0\n",
       "4            896         0\n",
       "..           ...       ...\n",
       "413         1305         0\n",
       "414         1306         1\n",
       "415         1307         0\n",
       "416         1308         0\n",
       "417         1309         0\n",
       "\n",
       "[418 rows x 2 columns]"
      ]
     },
     "execution_count": 51,
     "metadata": {},
     "output_type": "execute_result"
    }
   ],
   "source": [
    "submission"
   ]
  },
  {
   "cell_type": "code",
   "execution_count": 52,
   "metadata": {
    "execution": {
     "iopub.execute_input": "2020-08-12T02:37:49.189860Z",
     "iopub.status.busy": "2020-08-12T02:37:49.188938Z",
     "iopub.status.idle": "2020-08-12T02:37:49.301571Z",
     "shell.execute_reply": "2020-08-12T02:37:49.300700Z"
    },
    "papermill": {
     "duration": 0.149901,
     "end_time": "2020-08-12T02:37:49.301756",
     "exception": false,
     "start_time": "2020-08-12T02:37:49.151855",
     "status": "completed"
    },
    "tags": []
   },
   "outputs": [],
   "source": [
    "submission.PassengerId = submission.PassengerId.astype(int)\n",
    "submission.Survived = submission.Survived.astype(int)\n",
    "\n",
    "submission.to_csv(\"gender_submission.csv\", index=False)"
   ]
  },
  {
   "cell_type": "code",
   "execution_count": null,
   "metadata": {
    "papermill": {
     "duration": 0.029362,
     "end_time": "2020-08-12T02:37:49.360400",
     "exception": false,
     "start_time": "2020-08-12T02:37:49.331038",
     "status": "completed"
    },
    "tags": []
   },
   "outputs": [],
   "source": []
  }
 ],
 "metadata": {
  "kernelspec": {
   "display_name": "Python 3",
   "language": "python",
   "name": "python3"
  },
  "language_info": {
   "codemirror_mode": {
    "name": "ipython",
    "version": 3
   },
   "file_extension": ".py",
   "mimetype": "text/x-python",
   "name": "python",
   "nbconvert_exporter": "python",
   "pygments_lexer": "ipython3",
   "version": "3.7.6"
  },
  "papermill": {
   "duration": 24.328963,
   "end_time": "2020-08-12T02:37:49.499054",
   "environment_variables": {},
   "exception": null,
   "input_path": "__notebook__.ipynb",
   "output_path": "__notebook__.ipynb",
   "parameters": {},
   "start_time": "2020-08-12T02:37:25.170091",
   "version": "2.1.0"
  }
 },
 "nbformat": 4,
 "nbformat_minor": 4
}
